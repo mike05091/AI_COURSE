{
 "cells": [
  {
   "cell_type": "code",
   "execution_count": 1,
   "metadata": {},
   "outputs": [],
   "source": [
    "'''Basic package'''\n",
    "import os\n",
    "# 告訴系統要第幾張卡被看到。 Ex. 硬體總共有8張顯卡，以下設定只讓系統看到第1張顯卡\n",
    "# 若沒設定，則 Tensorflow 在運行時，預設會把所有卡都佔用\n",
    "# 要看裝置內顯卡數量及目前狀態的話，請在終端機內輸入 \"nvidia-smi\"\n",
    "# 若你的裝置只有一張顯卡可以使用，可以忽略此設定\n",
    "os.environ[\"CUDA_VISIBLE_DEVICES\"] = \"0\"\n",
    "\n",
    "import queue\n",
    "import cv2          #影像處理\n",
    "import scipy.misc   #影像處理\n",
    "import numpy as np\n",
    "import pandas as pd\n",
    "from tqdm import tqdm_notebook as tqdm #進度條\n",
    "import matplotlib.pyplot as plt #繪圖\n",
    "from sklearn.model_selection import train_test_split\n",
    "from sklearn.metrics import accuracy_score\n",
    "\n",
    "\n",
    "# 自定義 library\n",
    "# from generator import data_generators\n",
    "# from callbacks import *\n",
    "\n",
    "\n",
    "'''Tensorflow package'''\n",
    "import tensorflow as tf\n",
    "import tensorflow.contrib.slim as slim\n",
    "import tensorflow.contrib.slim.nets as slimNet\n",
    "\n",
    "\n",
    "'''Data augmentation package'''\n",
    "from imgaug import augmenters as iaa\n",
    "import imgaug as ia\n"
   ]
  },
  {
   "cell_type": "code",
   "execution_count": 2,
   "metadata": {},
   "outputs": [
    {
     "name": "stdout",
     "output_type": "stream",
     "text": [
      "/home/jovyan/projectdata/emc01/train\n",
      "檔案： ._real\n",
      "檔案： ._.DS_Store\n",
      "目錄： fake_photo\n",
      "檔案： ._fake_photo\n",
      "目錄： real\n",
      "檔案： .DS_Store\n",
      "目錄： fake_phonescreen\n",
      "檔案： ._fake_phonescreen\n",
      "/home/jovyan/projectdata/emc01/test7_plate2_0328All\n",
      "檔案： ._real\n",
      "檔案： ._.DS_Store\n",
      "目錄： fake_photo\n",
      "檔案： ._fake_photo\n",
      "目錄： real\n",
      "檔案： .DS_Store\n",
      "目錄： fake_phonescreen\n",
      "檔案： ._fake_phonescreen\n",
      "/home/jovyan/at071-group30/face_images/casia/train_frames/\n",
      "目錄： real\n",
      "目錄： fake\n",
      "目錄： .ipynb_checkpoints\n"
     ]
    }
   ],
   "source": [
    "#!/usr/bin/python\n",
    "# -*- coding: utf-8 -*-\n",
    "from os import listdir\n",
    "from os.path import isfile, isdir, join\n",
    "\n",
    "# 指定要列出所有檔案的目錄\n",
    "mypath = [\"/home/jovyan/projectdata/emc01/train\", \"/home/jovyan/projectdata/emc01/test7_plate2_0328All\", \"/home/jovyan/at071-group30/face_images/casia/train_frames/\"]\n",
    "# mypath = [\"/home/jovyan/projectdata/emc01/casia/train_frames\"]\n",
    "# mypath = [\"/home/jovyan/at071-group30/face_images/casia/train_frames/\"]\n",
    "Class_list = []\n",
    "Class_label_list = []\n",
    "Path_list = []\n",
    "\n",
    "for i in mypath:\n",
    "    # 取得所有檔案與子目錄名稱\n",
    "    print(i)\n",
    "    files = listdir(i)\n",
    "    # 以迴圈處理\n",
    "    for f in files:\n",
    "        # 產生檔案的絕對路徑\n",
    "        fullpath = join(i, f)\n",
    "        # 判斷 fullpath 是檔案還是目錄\n",
    "        if isfile(fullpath):\n",
    "            print(\"檔案：\", f)\n",
    "        elif isdir(fullpath):\n",
    "            print(\"目錄：\", f)\n",
    "            if (f == 'fake_photo') | (f == 'fake_phonescreen') | (f == 'fake'):\n",
    "                label = 0\n",
    "            elif f == 'real':\n",
    "                label = 1\n",
    "            else:\n",
    "                label = 999\n",
    "            sub_files = listdir(fullpath)\n",
    "            for ff in sub_files:\n",
    "                if (ff[0:2] != '._') & (ff != '.ipynb_checkpoints'):\n",
    "                    Class_list.append(f)\n",
    "                    Class_label_list.append(label)\n",
    "                    Path_list.append(fullpath + '/' + ff)"
   ]
  },
  {
   "cell_type": "code",
   "execution_count": 3,
   "metadata": {},
   "outputs": [
    {
     "data": {
      "text/plain": [
       "25349"
      ]
     },
     "execution_count": 3,
     "metadata": {},
     "output_type": "execute_result"
    }
   ],
   "source": [
    "len(Class_list)"
   ]
  },
  {
   "cell_type": "code",
   "execution_count": 4,
   "metadata": {},
   "outputs": [
    {
     "data": {
      "text/plain": [
       "25349"
      ]
     },
     "execution_count": 4,
     "metadata": {},
     "output_type": "execute_result"
    }
   ],
   "source": [
    "len(Path_list)"
   ]
  },
  {
   "cell_type": "code",
   "execution_count": 5,
   "metadata": {},
   "outputs": [
    {
     "data": {
      "text/html": [
       "<div>\n",
       "<table border=\"1\" class=\"dataframe\">\n",
       "  <thead>\n",
       "    <tr style=\"text-align: right;\">\n",
       "      <th></th>\n",
       "      <th>Class</th>\n",
       "      <th>Class_label</th>\n",
       "      <th>Path</th>\n",
       "    </tr>\n",
       "  </thead>\n",
       "  <tbody>\n",
       "    <tr>\n",
       "      <th>0</th>\n",
       "      <td>fake_photo</td>\n",
       "      <td>0</td>\n",
       "      <td>/home/jovyan/projectdata/emc01/train/fake_phot...</td>\n",
       "    </tr>\n",
       "    <tr>\n",
       "      <th>1</th>\n",
       "      <td>fake_photo</td>\n",
       "      <td>0</td>\n",
       "      <td>/home/jovyan/projectdata/emc01/train/fake_phot...</td>\n",
       "    </tr>\n",
       "    <tr>\n",
       "      <th>2</th>\n",
       "      <td>fake_photo</td>\n",
       "      <td>0</td>\n",
       "      <td>/home/jovyan/projectdata/emc01/train/fake_phot...</td>\n",
       "    </tr>\n",
       "    <tr>\n",
       "      <th>3</th>\n",
       "      <td>fake_photo</td>\n",
       "      <td>0</td>\n",
       "      <td>/home/jovyan/projectdata/emc01/train/fake_phot...</td>\n",
       "    </tr>\n",
       "    <tr>\n",
       "      <th>4</th>\n",
       "      <td>fake_photo</td>\n",
       "      <td>0</td>\n",
       "      <td>/home/jovyan/projectdata/emc01/train/fake_phot...</td>\n",
       "    </tr>\n",
       "  </tbody>\n",
       "</table>\n",
       "</div>"
      ],
      "text/plain": [
       "        Class  Class_label                                               Path\n",
       "0  fake_photo            0  /home/jovyan/projectdata/emc01/train/fake_phot...\n",
       "1  fake_photo            0  /home/jovyan/projectdata/emc01/train/fake_phot...\n",
       "2  fake_photo            0  /home/jovyan/projectdata/emc01/train/fake_phot...\n",
       "3  fake_photo            0  /home/jovyan/projectdata/emc01/train/fake_phot...\n",
       "4  fake_photo            0  /home/jovyan/projectdata/emc01/train/fake_phot..."
      ]
     },
     "execution_count": 5,
     "metadata": {},
     "output_type": "execute_result"
    }
   ],
   "source": [
    "img_df = pd.DataFrame({'Class':Class_list, 'Class_label':Class_label_list ,'Path':Path_list})\n",
    "img_df.head()"
   ]
  },
  {
   "cell_type": "code",
   "execution_count": 6,
   "metadata": {},
   "outputs": [
    {
     "data": {
      "text/html": [
       "<div>\n",
       "<table border=\"1\" class=\"dataframe\">\n",
       "  <thead>\n",
       "    <tr style=\"text-align: right;\">\n",
       "      <th></th>\n",
       "      <th>Class_label</th>\n",
       "      <th>Path</th>\n",
       "    </tr>\n",
       "    <tr>\n",
       "      <th>Class</th>\n",
       "      <th></th>\n",
       "      <th></th>\n",
       "    </tr>\n",
       "  </thead>\n",
       "  <tbody>\n",
       "    <tr>\n",
       "      <th>fake</th>\n",
       "      <td>8561</td>\n",
       "      <td>8561</td>\n",
       "    </tr>\n",
       "    <tr>\n",
       "      <th>fake_phonescreen</th>\n",
       "      <td>5779</td>\n",
       "      <td>5779</td>\n",
       "    </tr>\n",
       "    <tr>\n",
       "      <th>fake_photo</th>\n",
       "      <td>5193</td>\n",
       "      <td>5193</td>\n",
       "    </tr>\n",
       "    <tr>\n",
       "      <th>real</th>\n",
       "      <td>5816</td>\n",
       "      <td>5816</td>\n",
       "    </tr>\n",
       "  </tbody>\n",
       "</table>\n",
       "</div>"
      ],
      "text/plain": [
       "                  Class_label  Path\n",
       "Class                              \n",
       "fake                     8561  8561\n",
       "fake_phonescreen         5779  5779\n",
       "fake_photo               5193  5193\n",
       "real                     5816  5816"
      ]
     },
     "execution_count": 6,
     "metadata": {},
     "output_type": "execute_result"
    }
   ],
   "source": [
    "img_df.groupby(['Class']).count()"
   ]
  },
  {
   "cell_type": "code",
   "execution_count": 7,
   "metadata": {},
   "outputs": [
    {
     "data": {
      "text/html": [
       "<div>\n",
       "<table border=\"1\" class=\"dataframe\">\n",
       "  <thead>\n",
       "    <tr style=\"text-align: right;\">\n",
       "      <th></th>\n",
       "      <th>Class</th>\n",
       "      <th>Path</th>\n",
       "    </tr>\n",
       "    <tr>\n",
       "      <th>Class_label</th>\n",
       "      <th></th>\n",
       "      <th></th>\n",
       "    </tr>\n",
       "  </thead>\n",
       "  <tbody>\n",
       "    <tr>\n",
       "      <th>0</th>\n",
       "      <td>19533</td>\n",
       "      <td>19533</td>\n",
       "    </tr>\n",
       "    <tr>\n",
       "      <th>1</th>\n",
       "      <td>5816</td>\n",
       "      <td>5816</td>\n",
       "    </tr>\n",
       "  </tbody>\n",
       "</table>\n",
       "</div>"
      ],
      "text/plain": [
       "             Class   Path\n",
       "Class_label              \n",
       "0            19533  19533\n",
       "1             5816   5816"
      ]
     },
     "execution_count": 7,
     "metadata": {},
     "output_type": "execute_result"
    }
   ],
   "source": [
    "img_df.groupby(['Class_label']).count()"
   ]
  },
  {
   "cell_type": "code",
   "execution_count": 8,
   "metadata": {},
   "outputs": [
    {
     "name": "stdout",
     "output_type": "stream",
     "text": [
      "/home/jovyan/projectdata/emc01/train/fake_photo/VID_19700517_075202_frame42.png\n"
     ]
    },
    {
     "data": {
      "text/plain": [
       "<matplotlib.image.AxesImage at 0x7fadd1b0f208>"
      ]
     },
     "execution_count": 8,
     "metadata": {},
     "output_type": "execute_result"
    },
    {
     "data": {
      "image/png": "[encoded data removed]",
      "text/plain": [
       "<matplotlib.figure.Figure at 0x7fadd1bea3c8>"
      ]
     },
     "metadata": {},
     "output_type": "display_data"
    }
   ],
   "source": [
    "print(img_df.Path.iloc[10])\n",
    "img = cv2.imread(img_df.Path.iloc[10])[:,:,::-1]\n",
    "plt.imshow(img)"
   ]
  },
  {
   "cell_type": "code",
   "execution_count": 9,
   "metadata": {},
   "outputs": [
    {
     "data": {
      "text/plain": [
       "(160, 160, 3)"
      ]
     },
     "execution_count": 9,
     "metadata": {},
     "output_type": "execute_result"
    },
    {
     "data": {
      "image/png": "[encoded data removed]",
      "text/plain": [
       "<matplotlib.figure.Figure at 0x7fadd17645c0>"
      ]
     },
     "metadata": {},
     "output_type": "display_data"
    }
   ],
   "source": [
    "seq = iaa.Sequential([\n",
    "        iaa.Fliplr(0.5),               # 左右翻轉\n",
    "#         iaa.Flipud(0.5),               # 上下翻轉\n",
    "        iaa.Affine(rotate=(-10, 10), # 旋轉\n",
    "        scale=(0.6, 1.4),              # 縮放\n",
    "mode = 'wrap',                 # 影像翻轉造成區塊缺值的補值方式\n",
    "translate_percent={\"x\": (-0.2, 0.2), \"y\": (-0.2, 0.2)})]) # 平移\n",
    "img = seq.augment_image(img)\n",
    "\n",
    "plt.imshow(img, cmap='gray')\n",
    "img.shape"
   ]
  },
  {
   "cell_type": "code",
   "execution_count": 10,
   "metadata": {},
   "outputs": [
    {
     "name": "stdout",
     "output_type": "stream",
     "text": [
      "[1 0]\n"
     ]
    }
   ],
   "source": [
    "img_cla_y = pd.get_dummies(img_df['Class_label'], '').as_matrix()\n",
    "print(img_cla_y[0])"
   ]
  },
  {
   "cell_type": "code",
   "execution_count": 11,
   "metadata": {},
   "outputs": [
    {
     "name": "stdout",
     "output_type": "stream",
     "text": [
      "input_data shape: training (24081, (160, 160, 3)) ; testing (1268, (160, 160, 3))\n",
      "y_true shape: training (24081, 2) ; testing (1268, 2)\n"
     ]
    }
   ],
   "source": [
    "img_size = 160\n",
    "x_train_list, x_test_list, y_train, y_test = train_test_split(img_df, img_cla_y, test_size=0.05)  ## 將 input_x 和 input_y 各自區分成 training data 和 testing data\n",
    "\n",
    "## record the dim of img ##\n",
    "img = cv2.resize(img, (img_size,img_size))\n",
    "# img = img.flatten()\n",
    "\n",
    "print('input_data shape: training {training_shape} ; testing {testing_shape}'.format(\n",
    "            training_shape=(len(x_train_list), img.shape), \n",
    "            testing_shape=(len(x_test_list), img.shape)))\n",
    "print('y_true shape: training {training_shape} ; testing {testing_shape}'.format(\n",
    "            training_shape=y_train.shape, \n",
    "            testing_shape=y_test.shape))"
   ]
  },
  {
   "cell_type": "code",
   "execution_count": 12,
   "metadata": {},
   "outputs": [
    {
     "data": {
      "text/html": [
       "<div>\n",
       "<table border=\"1\" class=\"dataframe\">\n",
       "  <thead>\n",
       "    <tr style=\"text-align: right;\">\n",
       "      <th></th>\n",
       "      <th>Class_label</th>\n",
       "      <th>Path</th>\n",
       "    </tr>\n",
       "    <tr>\n",
       "      <th>Class</th>\n",
       "      <th></th>\n",
       "      <th></th>\n",
       "    </tr>\n",
       "  </thead>\n",
       "  <tbody>\n",
       "    <tr>\n",
       "      <th>fake</th>\n",
       "      <td>8155</td>\n",
       "      <td>8155</td>\n",
       "    </tr>\n",
       "    <tr>\n",
       "      <th>fake_phonescreen</th>\n",
       "      <td>5480</td>\n",
       "      <td>5480</td>\n",
       "    </tr>\n",
       "    <tr>\n",
       "      <th>fake_photo</th>\n",
       "      <td>4911</td>\n",
       "      <td>4911</td>\n",
       "    </tr>\n",
       "    <tr>\n",
       "      <th>real</th>\n",
       "      <td>5535</td>\n",
       "      <td>5535</td>\n",
       "    </tr>\n",
       "  </tbody>\n",
       "</table>\n",
       "</div>"
      ],
      "text/plain": [
       "                  Class_label  Path\n",
       "Class                              \n",
       "fake                     8155  8155\n",
       "fake_phonescreen         5480  5480\n",
       "fake_photo               4911  4911\n",
       "real                     5535  5535"
      ]
     },
     "execution_count": 12,
     "metadata": {},
     "output_type": "execute_result"
    }
   ],
   "source": [
    "x_train_list.groupby(['Class']).count()"
   ]
  },
  {
   "cell_type": "code",
   "execution_count": 13,
   "metadata": {},
   "outputs": [
    {
     "data": {
      "text/html": [
       "<div>\n",
       "<table border=\"1\" class=\"dataframe\">\n",
       "  <thead>\n",
       "    <tr style=\"text-align: right;\">\n",
       "      <th></th>\n",
       "      <th>Class_label</th>\n",
       "      <th>Path</th>\n",
       "    </tr>\n",
       "    <tr>\n",
       "      <th>Class</th>\n",
       "      <th></th>\n",
       "      <th></th>\n",
       "    </tr>\n",
       "  </thead>\n",
       "  <tbody>\n",
       "    <tr>\n",
       "      <th>fake</th>\n",
       "      <td>406</td>\n",
       "      <td>406</td>\n",
       "    </tr>\n",
       "    <tr>\n",
       "      <th>fake_phonescreen</th>\n",
       "      <td>299</td>\n",
       "      <td>299</td>\n",
       "    </tr>\n",
       "    <tr>\n",
       "      <th>fake_photo</th>\n",
       "      <td>282</td>\n",
       "      <td>282</td>\n",
       "    </tr>\n",
       "    <tr>\n",
       "      <th>real</th>\n",
       "      <td>281</td>\n",
       "      <td>281</td>\n",
       "    </tr>\n",
       "  </tbody>\n",
       "</table>\n",
       "</div>"
      ],
      "text/plain": [
       "                  Class_label  Path\n",
       "Class                              \n",
       "fake                      406   406\n",
       "fake_phonescreen          299   299\n",
       "fake_photo                282   282\n",
       "real                      281   281"
      ]
     },
     "execution_count": 13,
     "metadata": {},
     "output_type": "execute_result"
    }
   ],
   "source": [
    "x_test_list.groupby(['Class']).count()"
   ]
  },
  {
   "cell_type": "markdown",
   "metadata": {},
   "source": [
    "## define image generator"
   ]
  },
  {
   "cell_type": "code",
   "execution_count": 14,
   "metadata": {},
   "outputs": [],
   "source": [
    "from sklearn.utils import shuffle \n",
    "\n",
    "def img_train_batch_generator(x, y, bs, shape):\n",
    "    x_train = np.array([]).reshape((0, shape*3))\n",
    "    y_train = np.array([]).reshape((0, y.shape[1]))\n",
    "    while True:\n",
    "        new_ind = shuffle(range(len(x)))\n",
    "        x = x.take(new_ind)\n",
    "        y = np.take(y, new_ind, axis=0)\n",
    "        for i in range(len(x)):\n",
    "            dir_img = x.Path.iloc[i]\n",
    "            img = cv2.imread(dir_img)[:,:,::-1]\n",
    "            img = cv2.resize(img, (img_size,img_size))\n",
    "            x_train = np.row_stack([x_train, img.flatten()])\n",
    "            y_train = np.row_stack([y_train, y[i]])\n",
    "            # Image_AUG\n",
    "            seq = iaa.Sequential([\n",
    "                    iaa.Fliplr(0.5),               # 左右翻轉\n",
    "#                     iaa.Flipud(0.5),               # 上下翻轉\n",
    "                    iaa.Affine(rotate=(-10, 10), # 旋轉\n",
    "                    scale=(0.6, 1.4),              # 縮放\n",
    "            mode = 'wrap',                 # 影像翻轉造成區塊缺值的補值方式\n",
    "            translate_percent={\"x\": (-0.2, 0.2), \"y\": (-0.2, 0.2)})]) # 平移\n",
    "            img = seq.augment_image(img)\n",
    "            x_train = np.row_stack([x_train, img.flatten()])\n",
    "            y_train = np.row_stack([y_train, y[i]])\n",
    "            \n",
    "            if x_train.shape[0] == bs:\n",
    "                x_batch = x_train.copy()\n",
    "                x_batch /= 255.\n",
    "                x_batch = x_batch.reshape(x_batch.shape[0], img_size, img_size, 3)\n",
    "                y_batch = y_train.copy()\n",
    "                x_train = np.array([]).reshape((0 ,shape*3))\n",
    "                y_train = np.array([]).reshape((0 ,y.shape[1]))        \n",
    "                yield x_batch, y_batch\n",
    "\n",
    "def img_test_batch_generator(x, shape):\n",
    "    x_test = np.array([]).reshape((0, shape*3))\n",
    "#     for i in range(len(x)):\n",
    "#         dir_img = x.Path.iloc[i]\n",
    "#         img = cv2.imread(dir_img)[:,:,::-1]\n",
    "#         img = cv2.resize(img, (img_size, img_size))\n",
    "#         x_test = np.row_stack([x_test, img.flatten()])\n",
    "        \n",
    "    data_bar = tqdm(range(len(x)), desc=\"data\", unit=\"data\")\n",
    "    gen_file = (cv2.resize(cv2.imread(x.Path.iloc[i])[:,:,::-1],(img_size,img_size),\n",
    "                                   interpolation=cv2.INTER_CUBIC) for i in data_bar)\n",
    "    x_test = np.stack(gen_file, axis=0)\n",
    "    x_test = x_test / 255.\n",
    "    x_test = x_test.reshape(x_test.shape[0], img_size, img_size, 3)\n",
    "    return x_test"
   ]
  },
  {
   "cell_type": "code",
   "execution_count": 15,
   "metadata": {},
   "outputs": [
    {
     "data": {
      "application/vnd.jupyter.widget-view+json": {
       "model_id": "f8757081cd4f42de83fad6daa4da4904",
       "version_major": 2,
       "version_minor": 0
      },
      "text/html": [
       "<p>Failed to display Jupyter Widget of type <code>HBox</code>.</p>\n",
       "<p>\n",
       "  If you're reading this message in the Jupyter Notebook or JupyterLab Notebook, it may mean\n",
       "  that the widgets JavaScript is still loading. If this message persists, it\n",
       "  likely means that the widgets JavaScript library is either not installed or\n",
       "  not enabled. See the <a href=\"https://ipywidgets.readthedocs.io/en/stable/user_install.html\">Jupyter\n",
       "  Widgets Documentation</a> for setup instructions.\n",
       "</p>\n",
       "<p>\n",
       "  If you're reading this message in another frontend (for example, a static\n",
       "  rendering on GitHub or <a href=\"https://nbviewer.jupyter.org/\">NBViewer</a>),\n",
       "  it may mean that your frontend doesn't currently support widgets.\n",
       "</p>\n"
      ],
      "text/plain": [
       "HBox(children=(IntProgress(value=0, description='data', max=1268), HTML(value='')))"
      ]
     },
     "metadata": {},
     "output_type": "display_data"
    },
    {
     "name": "stdout",
     "output_type": "stream",
     "text": [
      "\n"
     ]
    }
   ],
   "source": [
    "x_test = img_test_batch_generator(x_test_list, img.shape[0] * img.shape[1])"
   ]
  },
  {
   "cell_type": "code",
   "execution_count": 16,
   "metadata": {},
   "outputs": [
    {
     "data": {
      "text/plain": [
       "(1268, 160, 160, 3)"
      ]
     },
     "execution_count": 16,
     "metadata": {},
     "output_type": "execute_result"
    }
   ],
   "source": [
    "x_test.shape"
   ]
  },
  {
   "cell_type": "code",
   "execution_count": 17,
   "metadata": {},
   "outputs": [
    {
     "data": {
      "text/plain": [
       "(160, 160, 3)"
      ]
     },
     "execution_count": 17,
     "metadata": {},
     "output_type": "execute_result"
    }
   ],
   "source": [
    "x_test[1].shape"
   ]
  },
  {
   "cell_type": "code",
   "execution_count": 18,
   "metadata": {},
   "outputs": [
    {
     "data": {
      "text/plain": [
       "<matplotlib.image.AxesImage at 0x7fadbde28668>"
      ]
     },
     "execution_count": 18,
     "metadata": {},
     "output_type": "execute_result"
    },
    {
     "data": {
      "image/png": "[encoded data removed]",
      "text/plain": [
       "<matplotlib.figure.Figure at 0x7fadbe6f5438>"
      ]
     },
     "metadata": {},
     "output_type": "display_data"
    }
   ],
   "source": [
    "plt.imshow(x_test[1].reshape(img_size, img_size, 3))"
   ]
  },
  {
   "cell_type": "markdown",
   "metadata": {},
   "source": [
    "## Create Graph"
   ]
  },
  {
   "cell_type": "code",
   "execution_count": 19,
   "metadata": {},
   "outputs": [],
   "source": [
    "def classifier(x, num_class):\n",
    "    x = tf.reduce_mean(x, [1,2]) # global average pooling\n",
    "    x = tf.layers.dense(x, num_class)\n",
    "    return x"
   ]
  },
  {
   "cell_type": "code",
   "execution_count": 20,
   "metadata": {},
   "outputs": [],
   "source": [
    "'''graph\n",
    "\n",
    "這部分就像一張計畫圖一樣，定義我們計算的流程\n",
    "此部分沒辦法直接被執行，必須靠 session 才能實際執行運算\n",
    "\n",
    "'''\n",
    "tf.reset_default_graph() ## 重新 build graph 需要跑這行\n",
    "\n",
    "num_class = 2\n",
    "main_graph = tf.Graph()\n",
    "sess = tf.Session(graph=main_graph)\n",
    "with main_graph.as_default():\n",
    "    #### optimizer ####\n",
    "    lr = tf.placeholder(tf.float32, shape=[])\n",
    "    optimizer = tf.train.AdamOptimizer(lr)\n",
    "        \n",
    "    #### placeholder ####\n",
    "    input_data = tf.placeholder(dtype=tf.float32, shape=(None, img_size, img_size, 3), name='input_data')\n",
    "    y_true = tf.placeholder(dtype=tf.float32, shape=(None, num_class), name='y_true')\n",
    "    is_training = tf.placeholder(dtype=tf.bool, shape=[])\n",
    "    \n",
    "    #### model ####\n",
    "    with slim.arg_scope(slimNet.resnet_utils.resnet_arg_scope(batch_norm_decay=0.99)):\n",
    "        _, layers_dict = slimNet.resnet_v2.resnet_v2_50(input_data, global_pool=False, is_training=is_training)\n",
    "        conv_output = layers_dict['resnet_v2_50/block4']\n",
    "    \n",
    "    with tf.variable_scope('CLASS_1'):\n",
    "        y_pred = classifier(conv_output, num_class)\n",
    "        pred_softmax = tf.nn.softmax(y_pred)\n",
    "    \n",
    "    #### loss ####\n",
    "    loss = tf.losses.softmax_cross_entropy(y_true, y_pred)\n",
    "    \n",
    "    #### udpate ####\n",
    "    update_ops = tf.get_collection(tf.GraphKeys.UPDATE_OPS) #使用內建的 batch normalization layer, 必須執行\n",
    "    with tf.control_dependencies(update_ops):               #tf.GraphKeys.UPDATE_OPS 才會更新到 BN 層的 mean, variance\n",
    "        update = optimizer.minimize(loss) \n",
    "        \n",
    "    #### other ####\n",
    "    var_list = tf.trainable_variables() # 與 tf.get_collection(tf.GraphKeys.TRAINABLE_VARIABLES) 相同    \n",
    "    saver = tf.train.Saver() # 處理模型儲存、載入\n",
    "    init = tf.global_variables_initializer()"
   ]
  },
  {
   "cell_type": "code",
   "execution_count": 21,
   "metadata": {},
   "outputs": [
    {
     "name": "stdout",
     "output_type": "stream",
     "text": [
      "INFO:tensorflow:Restoring parameters from /home/jovyan/exam/resnet_v2_50/resnet_v2_50.ckpt\n"
     ]
    }
   ],
   "source": [
    "sess.run(init)\n",
    "#### load weights from pre-train model ####\n",
    "saver_restore = tf.train.Saver([v for v in var_list if 'resnet_v2_50' in v.name])\n",
    "saver_restore.restore(sess, '/home/jovyan/exam/resnet_v2_50/resnet_v2_50.ckpt')"
   ]
  },
  {
   "cell_type": "code",
   "execution_count": 22,
   "metadata": {},
   "outputs": [
    {
     "data": {
      "text/plain": [
       "[<tf.Variable 'resnet_v2_50/conv1/weights:0' shape=(7, 7, 3, 64) dtype=float32_ref>,\n",
       " <tf.Variable 'resnet_v2_50/conv1/biases:0' shape=(64,) dtype=float32_ref>,\n",
       " <tf.Variable 'resnet_v2_50/block1/unit_1/bottleneck_v2/preact/gamma:0' shape=(64,) dtype=float32_ref>,\n",
       " <tf.Variable 'resnet_v2_50/block1/unit_1/bottleneck_v2/preact/beta:0' shape=(64,) dtype=float32_ref>,\n",
       " <tf.Variable 'resnet_v2_50/block1/unit_1/bottleneck_v2/shortcut/weights:0' shape=(1, 1, 64, 256) dtype=float32_ref>,\n",
       " <tf.Variable 'resnet_v2_50/block1/unit_1/bottleneck_v2/shortcut/biases:0' shape=(256,) dtype=float32_ref>,\n",
       " <tf.Variable 'resnet_v2_50/block1/unit_1/bottleneck_v2/conv1/weights:0' shape=(1, 1, 64, 64) dtype=float32_ref>,\n",
       " <tf.Variable 'resnet_v2_50/block1/unit_1/bottleneck_v2/conv1/BatchNorm/gamma:0' shape=(64,) dtype=float32_ref>,\n",
       " <tf.Variable 'resnet_v2_50/block1/unit_1/bottleneck_v2/conv1/BatchNorm/beta:0' shape=(64,) dtype=float32_ref>,\n",
       " <tf.Variable 'resnet_v2_50/block1/unit_1/bottleneck_v2/conv2/weights:0' shape=(3, 3, 64, 64) dtype=float32_ref>,\n",
       " <tf.Variable 'resnet_v2_50/block1/unit_1/bottleneck_v2/conv2/BatchNorm/gamma:0' shape=(64,) dtype=float32_ref>,\n",
       " <tf.Variable 'resnet_v2_50/block1/unit_1/bottleneck_v2/conv2/BatchNorm/beta:0' shape=(64,) dtype=float32_ref>,\n",
       " <tf.Variable 'resnet_v2_50/block1/unit_1/bottleneck_v2/conv3/weights:0' shape=(1, 1, 64, 256) dtype=float32_ref>,\n",
       " <tf.Variable 'resnet_v2_50/block1/unit_1/bottleneck_v2/conv3/biases:0' shape=(256,) dtype=float32_ref>,\n",
       " <tf.Variable 'resnet_v2_50/block1/unit_2/bottleneck_v2/preact/gamma:0' shape=(256,) dtype=float32_ref>,\n",
       " <tf.Variable 'resnet_v2_50/block1/unit_2/bottleneck_v2/preact/beta:0' shape=(256,) dtype=float32_ref>,\n",
       " <tf.Variable 'resnet_v2_50/block1/unit_2/bottleneck_v2/conv1/weights:0' shape=(1, 1, 256, 64) dtype=float32_ref>,\n",
       " <tf.Variable 'resnet_v2_50/block1/unit_2/bottleneck_v2/conv1/BatchNorm/gamma:0' shape=(64,) dtype=float32_ref>,\n",
       " <tf.Variable 'resnet_v2_50/block1/unit_2/bottleneck_v2/conv1/BatchNorm/beta:0' shape=(64,) dtype=float32_ref>,\n",
       " <tf.Variable 'resnet_v2_50/block1/unit_2/bottleneck_v2/conv2/weights:0' shape=(3, 3, 64, 64) dtype=float32_ref>,\n",
       " <tf.Variable 'resnet_v2_50/block1/unit_2/bottleneck_v2/conv2/BatchNorm/gamma:0' shape=(64,) dtype=float32_ref>,\n",
       " <tf.Variable 'resnet_v2_50/block1/unit_2/bottleneck_v2/conv2/BatchNorm/beta:0' shape=(64,) dtype=float32_ref>,\n",
       " <tf.Variable 'resnet_v2_50/block1/unit_2/bottleneck_v2/conv3/weights:0' shape=(1, 1, 64, 256) dtype=float32_ref>,\n",
       " <tf.Variable 'resnet_v2_50/block1/unit_2/bottleneck_v2/conv3/biases:0' shape=(256,) dtype=float32_ref>,\n",
       " <tf.Variable 'resnet_v2_50/block1/unit_3/bottleneck_v2/preact/gamma:0' shape=(256,) dtype=float32_ref>,\n",
       " <tf.Variable 'resnet_v2_50/block1/unit_3/bottleneck_v2/preact/beta:0' shape=(256,) dtype=float32_ref>,\n",
       " <tf.Variable 'resnet_v2_50/block1/unit_3/bottleneck_v2/conv1/weights:0' shape=(1, 1, 256, 64) dtype=float32_ref>,\n",
       " <tf.Variable 'resnet_v2_50/block1/unit_3/bottleneck_v2/conv1/BatchNorm/gamma:0' shape=(64,) dtype=float32_ref>,\n",
       " <tf.Variable 'resnet_v2_50/block1/unit_3/bottleneck_v2/conv1/BatchNorm/beta:0' shape=(64,) dtype=float32_ref>,\n",
       " <tf.Variable 'resnet_v2_50/block1/unit_3/bottleneck_v2/conv2/weights:0' shape=(3, 3, 64, 64) dtype=float32_ref>,\n",
       " <tf.Variable 'resnet_v2_50/block1/unit_3/bottleneck_v2/conv2/BatchNorm/gamma:0' shape=(64,) dtype=float32_ref>,\n",
       " <tf.Variable 'resnet_v2_50/block1/unit_3/bottleneck_v2/conv2/BatchNorm/beta:0' shape=(64,) dtype=float32_ref>,\n",
       " <tf.Variable 'resnet_v2_50/block1/unit_3/bottleneck_v2/conv3/weights:0' shape=(1, 1, 64, 256) dtype=float32_ref>,\n",
       " <tf.Variable 'resnet_v2_50/block1/unit_3/bottleneck_v2/conv3/biases:0' shape=(256,) dtype=float32_ref>,\n",
       " <tf.Variable 'resnet_v2_50/block2/unit_1/bottleneck_v2/preact/gamma:0' shape=(256,) dtype=float32_ref>,\n",
       " <tf.Variable 'resnet_v2_50/block2/unit_1/bottleneck_v2/preact/beta:0' shape=(256,) dtype=float32_ref>,\n",
       " <tf.Variable 'resnet_v2_50/block2/unit_1/bottleneck_v2/shortcut/weights:0' shape=(1, 1, 256, 512) dtype=float32_ref>,\n",
       " <tf.Variable 'resnet_v2_50/block2/unit_1/bottleneck_v2/shortcut/biases:0' shape=(512,) dtype=float32_ref>,\n",
       " <tf.Variable 'resnet_v2_50/block2/unit_1/bottleneck_v2/conv1/weights:0' shape=(1, 1, 256, 128) dtype=float32_ref>,\n",
       " <tf.Variable 'resnet_v2_50/block2/unit_1/bottleneck_v2/conv1/BatchNorm/gamma:0' shape=(128,) dtype=float32_ref>,\n",
       " <tf.Variable 'resnet_v2_50/block2/unit_1/bottleneck_v2/conv1/BatchNorm/beta:0' shape=(128,) dtype=float32_ref>,\n",
       " <tf.Variable 'resnet_v2_50/block2/unit_1/bottleneck_v2/conv2/weights:0' shape=(3, 3, 128, 128) dtype=float32_ref>,\n",
       " <tf.Variable 'resnet_v2_50/block2/unit_1/bottleneck_v2/conv2/BatchNorm/gamma:0' shape=(128,) dtype=float32_ref>,\n",
       " <tf.Variable 'resnet_v2_50/block2/unit_1/bottleneck_v2/conv2/BatchNorm/beta:0' shape=(128,) dtype=float32_ref>,\n",
       " <tf.Variable 'resnet_v2_50/block2/unit_1/bottleneck_v2/conv3/weights:0' shape=(1, 1, 128, 512) dtype=float32_ref>,\n",
       " <tf.Variable 'resnet_v2_50/block2/unit_1/bottleneck_v2/conv3/biases:0' shape=(512,) dtype=float32_ref>,\n",
       " <tf.Variable 'resnet_v2_50/block2/unit_2/bottleneck_v2/preact/gamma:0' shape=(512,) dtype=float32_ref>,\n",
       " <tf.Variable 'resnet_v2_50/block2/unit_2/bottleneck_v2/preact/beta:0' shape=(512,) dtype=float32_ref>,\n",
       " <tf.Variable 'resnet_v2_50/block2/unit_2/bottleneck_v2/conv1/weights:0' shape=(1, 1, 512, 128) dtype=float32_ref>,\n",
       " <tf.Variable 'resnet_v2_50/block2/unit_2/bottleneck_v2/conv1/BatchNorm/gamma:0' shape=(128,) dtype=float32_ref>,\n",
       " <tf.Variable 'resnet_v2_50/block2/unit_2/bottleneck_v2/conv1/BatchNorm/beta:0' shape=(128,) dtype=float32_ref>,\n",
       " <tf.Variable 'resnet_v2_50/block2/unit_2/bottleneck_v2/conv2/weights:0' shape=(3, 3, 128, 128) dtype=float32_ref>,\n",
       " <tf.Variable 'resnet_v2_50/block2/unit_2/bottleneck_v2/conv2/BatchNorm/gamma:0' shape=(128,) dtype=float32_ref>,\n",
       " <tf.Variable 'resnet_v2_50/block2/unit_2/bottleneck_v2/conv2/BatchNorm/beta:0' shape=(128,) dtype=float32_ref>,\n",
       " <tf.Variable 'resnet_v2_50/block2/unit_2/bottleneck_v2/conv3/weights:0' shape=(1, 1, 128, 512) dtype=float32_ref>,\n",
       " <tf.Variable 'resnet_v2_50/block2/unit_2/bottleneck_v2/conv3/biases:0' shape=(512,) dtype=float32_ref>,\n",
       " <tf.Variable 'resnet_v2_50/block2/unit_3/bottleneck_v2/preact/gamma:0' shape=(512,) dtype=float32_ref>,\n",
       " <tf.Variable 'resnet_v2_50/block2/unit_3/bottleneck_v2/preact/beta:0' shape=(512,) dtype=float32_ref>,\n",
       " <tf.Variable 'resnet_v2_50/block2/unit_3/bottleneck_v2/conv1/weights:0' shape=(1, 1, 512, 128) dtype=float32_ref>,\n",
       " <tf.Variable 'resnet_v2_50/block2/unit_3/bottleneck_v2/conv1/BatchNorm/gamma:0' shape=(128,) dtype=float32_ref>,\n",
       " <tf.Variable 'resnet_v2_50/block2/unit_3/bottleneck_v2/conv1/BatchNorm/beta:0' shape=(128,) dtype=float32_ref>,\n",
       " <tf.Variable 'resnet_v2_50/block2/unit_3/bottleneck_v2/conv2/weights:0' shape=(3, 3, 128, 128) dtype=float32_ref>,\n",
       " <tf.Variable 'resnet_v2_50/block2/unit_3/bottleneck_v2/conv2/BatchNorm/gamma:0' shape=(128,) dtype=float32_ref>,\n",
       " <tf.Variable 'resnet_v2_50/block2/unit_3/bottleneck_v2/conv2/BatchNorm/beta:0' shape=(128,) dtype=float32_ref>,\n",
       " <tf.Variable 'resnet_v2_50/block2/unit_3/bottleneck_v2/conv3/weights:0' shape=(1, 1, 128, 512) dtype=float32_ref>,\n",
       " <tf.Variable 'resnet_v2_50/block2/unit_3/bottleneck_v2/conv3/biases:0' shape=(512,) dtype=float32_ref>,\n",
       " <tf.Variable 'resnet_v2_50/block2/unit_4/bottleneck_v2/preact/gamma:0' shape=(512,) dtype=float32_ref>,\n",
       " <tf.Variable 'resnet_v2_50/block2/unit_4/bottleneck_v2/preact/beta:0' shape=(512,) dtype=float32_ref>,\n",
       " <tf.Variable 'resnet_v2_50/block2/unit_4/bottleneck_v2/conv1/weights:0' shape=(1, 1, 512, 128) dtype=float32_ref>,\n",
       " <tf.Variable 'resnet_v2_50/block2/unit_4/bottleneck_v2/conv1/BatchNorm/gamma:0' shape=(128,) dtype=float32_ref>,\n",
       " <tf.Variable 'resnet_v2_50/block2/unit_4/bottleneck_v2/conv1/BatchNorm/beta:0' shape=(128,) dtype=float32_ref>,\n",
       " <tf.Variable 'resnet_v2_50/block2/unit_4/bottleneck_v2/conv2/weights:0' shape=(3, 3, 128, 128) dtype=float32_ref>,\n",
       " <tf.Variable 'resnet_v2_50/block2/unit_4/bottleneck_v2/conv2/BatchNorm/gamma:0' shape=(128,) dtype=float32_ref>,\n",
       " <tf.Variable 'resnet_v2_50/block2/unit_4/bottleneck_v2/conv2/BatchNorm/beta:0' shape=(128,) dtype=float32_ref>,\n",
       " <tf.Variable 'resnet_v2_50/block2/unit_4/bottleneck_v2/conv3/weights:0' shape=(1, 1, 128, 512) dtype=float32_ref>,\n",
       " <tf.Variable 'resnet_v2_50/block2/unit_4/bottleneck_v2/conv3/biases:0' shape=(512,) dtype=float32_ref>,\n",
       " <tf.Variable 'resnet_v2_50/block3/unit_1/bottleneck_v2/preact/gamma:0' shape=(512,) dtype=float32_ref>,\n",
       " <tf.Variable 'resnet_v2_50/block3/unit_1/bottleneck_v2/preact/beta:0' shape=(512,) dtype=float32_ref>,\n",
       " <tf.Variable 'resnet_v2_50/block3/unit_1/bottleneck_v2/shortcut/weights:0' shape=(1, 1, 512, 1024) dtype=float32_ref>,\n",
       " <tf.Variable 'resnet_v2_50/block3/unit_1/bottleneck_v2/shortcut/biases:0' shape=(1024,) dtype=float32_ref>,\n",
       " <tf.Variable 'resnet_v2_50/block3/unit_1/bottleneck_v2/conv1/weights:0' shape=(1, 1, 512, 256) dtype=float32_ref>,\n",
       " <tf.Variable 'resnet_v2_50/block3/unit_1/bottleneck_v2/conv1/BatchNorm/gamma:0' shape=(256,) dtype=float32_ref>,\n",
       " <tf.Variable 'resnet_v2_50/block3/unit_1/bottleneck_v2/conv1/BatchNorm/beta:0' shape=(256,) dtype=float32_ref>,\n",
       " <tf.Variable 'resnet_v2_50/block3/unit_1/bottleneck_v2/conv2/weights:0' shape=(3, 3, 256, 256) dtype=float32_ref>,\n",
       " <tf.Variable 'resnet_v2_50/block3/unit_1/bottleneck_v2/conv2/BatchNorm/gamma:0' shape=(256,) dtype=float32_ref>,\n",
       " <tf.Variable 'resnet_v2_50/block3/unit_1/bottleneck_v2/conv2/BatchNorm/beta:0' shape=(256,) dtype=float32_ref>,\n",
       " <tf.Variable 'resnet_v2_50/block3/unit_1/bottleneck_v2/conv3/weights:0' shape=(1, 1, 256, 1024) dtype=float32_ref>,\n",
       " <tf.Variable 'resnet_v2_50/block3/unit_1/bottleneck_v2/conv3/biases:0' shape=(1024,) dtype=float32_ref>,\n",
       " <tf.Variable 'resnet_v2_50/block3/unit_2/bottleneck_v2/preact/gamma:0' shape=(1024,) dtype=float32_ref>,\n",
       " <tf.Variable 'resnet_v2_50/block3/unit_2/bottleneck_v2/preact/beta:0' shape=(1024,) dtype=float32_ref>,\n",
       " <tf.Variable 'resnet_v2_50/block3/unit_2/bottleneck_v2/conv1/weights:0' shape=(1, 1, 1024, 256) dtype=float32_ref>,\n",
       " <tf.Variable 'resnet_v2_50/block3/unit_2/bottleneck_v2/conv1/BatchNorm/gamma:0' shape=(256,) dtype=float32_ref>,\n",
       " <tf.Variable 'resnet_v2_50/block3/unit_2/bottleneck_v2/conv1/BatchNorm/beta:0' shape=(256,) dtype=float32_ref>,\n",
       " <tf.Variable 'resnet_v2_50/block3/unit_2/bottleneck_v2/conv2/weights:0' shape=(3, 3, 256, 256) dtype=float32_ref>,\n",
       " <tf.Variable 'resnet_v2_50/block3/unit_2/bottleneck_v2/conv2/BatchNorm/gamma:0' shape=(256,) dtype=float32_ref>,\n",
       " <tf.Variable 'resnet_v2_50/block3/unit_2/bottleneck_v2/conv2/BatchNorm/beta:0' shape=(256,) dtype=float32_ref>,\n",
       " <tf.Variable 'resnet_v2_50/block3/unit_2/bottleneck_v2/conv3/weights:0' shape=(1, 1, 256, 1024) dtype=float32_ref>,\n",
       " <tf.Variable 'resnet_v2_50/block3/unit_2/bottleneck_v2/conv3/biases:0' shape=(1024,) dtype=float32_ref>,\n",
       " <tf.Variable 'resnet_v2_50/block3/unit_3/bottleneck_v2/preact/gamma:0' shape=(1024,) dtype=float32_ref>,\n",
       " <tf.Variable 'resnet_v2_50/block3/unit_3/bottleneck_v2/preact/beta:0' shape=(1024,) dtype=float32_ref>,\n",
       " <tf.Variable 'resnet_v2_50/block3/unit_3/bottleneck_v2/conv1/weights:0' shape=(1, 1, 1024, 256) dtype=float32_ref>,\n",
       " <tf.Variable 'resnet_v2_50/block3/unit_3/bottleneck_v2/conv1/BatchNorm/gamma:0' shape=(256,) dtype=float32_ref>,\n",
       " <tf.Variable 'resnet_v2_50/block3/unit_3/bottleneck_v2/conv1/BatchNorm/beta:0' shape=(256,) dtype=float32_ref>,\n",
       " <tf.Variable 'resnet_v2_50/block3/unit_3/bottleneck_v2/conv2/weights:0' shape=(3, 3, 256, 256) dtype=float32_ref>,\n",
       " <tf.Variable 'resnet_v2_50/block3/unit_3/bottleneck_v2/conv2/BatchNorm/gamma:0' shape=(256,) dtype=float32_ref>,\n",
       " <tf.Variable 'resnet_v2_50/block3/unit_3/bottleneck_v2/conv2/BatchNorm/beta:0' shape=(256,) dtype=float32_ref>,\n",
       " <tf.Variable 'resnet_v2_50/block3/unit_3/bottleneck_v2/conv3/weights:0' shape=(1, 1, 256, 1024) dtype=float32_ref>,\n",
       " <tf.Variable 'resnet_v2_50/block3/unit_3/bottleneck_v2/conv3/biases:0' shape=(1024,) dtype=float32_ref>,\n",
       " <tf.Variable 'resnet_v2_50/block3/unit_4/bottleneck_v2/preact/gamma:0' shape=(1024,) dtype=float32_ref>,\n",
       " <tf.Variable 'resnet_v2_50/block3/unit_4/bottleneck_v2/preact/beta:0' shape=(1024,) dtype=float32_ref>,\n",
       " <tf.Variable 'resnet_v2_50/block3/unit_4/bottleneck_v2/conv1/weights:0' shape=(1, 1, 1024, 256) dtype=float32_ref>,\n",
       " <tf.Variable 'resnet_v2_50/block3/unit_4/bottleneck_v2/conv1/BatchNorm/gamma:0' shape=(256,) dtype=float32_ref>,\n",
       " <tf.Variable 'resnet_v2_50/block3/unit_4/bottleneck_v2/conv1/BatchNorm/beta:0' shape=(256,) dtype=float32_ref>,\n",
       " <tf.Variable 'resnet_v2_50/block3/unit_4/bottleneck_v2/conv2/weights:0' shape=(3, 3, 256, 256) dtype=float32_ref>,\n",
       " <tf.Variable 'resnet_v2_50/block3/unit_4/bottleneck_v2/conv2/BatchNorm/gamma:0' shape=(256,) dtype=float32_ref>,\n",
       " <tf.Variable 'resnet_v2_50/block3/unit_4/bottleneck_v2/conv2/BatchNorm/beta:0' shape=(256,) dtype=float32_ref>,\n",
       " <tf.Variable 'resnet_v2_50/block3/unit_4/bottleneck_v2/conv3/weights:0' shape=(1, 1, 256, 1024) dtype=float32_ref>,\n",
       " <tf.Variable 'resnet_v2_50/block3/unit_4/bottleneck_v2/conv3/biases:0' shape=(1024,) dtype=float32_ref>,\n",
       " <tf.Variable 'resnet_v2_50/block3/unit_5/bottleneck_v2/preact/gamma:0' shape=(1024,) dtype=float32_ref>,\n",
       " <tf.Variable 'resnet_v2_50/block3/unit_5/bottleneck_v2/preact/beta:0' shape=(1024,) dtype=float32_ref>,\n",
       " <tf.Variable 'resnet_v2_50/block3/unit_5/bottleneck_v2/conv1/weights:0' shape=(1, 1, 1024, 256) dtype=float32_ref>,\n",
       " <tf.Variable 'resnet_v2_50/block3/unit_5/bottleneck_v2/conv1/BatchNorm/gamma:0' shape=(256,) dtype=float32_ref>,\n",
       " <tf.Variable 'resnet_v2_50/block3/unit_5/bottleneck_v2/conv1/BatchNorm/beta:0' shape=(256,) dtype=float32_ref>,\n",
       " <tf.Variable 'resnet_v2_50/block3/unit_5/bottleneck_v2/conv2/weights:0' shape=(3, 3, 256, 256) dtype=float32_ref>,\n",
       " <tf.Variable 'resnet_v2_50/block3/unit_5/bottleneck_v2/conv2/BatchNorm/gamma:0' shape=(256,) dtype=float32_ref>,\n",
       " <tf.Variable 'resnet_v2_50/block3/unit_5/bottleneck_v2/conv2/BatchNorm/beta:0' shape=(256,) dtype=float32_ref>,\n",
       " <tf.Variable 'resnet_v2_50/block3/unit_5/bottleneck_v2/conv3/weights:0' shape=(1, 1, 256, 1024) dtype=float32_ref>,\n",
       " <tf.Variable 'resnet_v2_50/block3/unit_5/bottleneck_v2/conv3/biases:0' shape=(1024,) dtype=float32_ref>,\n",
       " <tf.Variable 'resnet_v2_50/block3/unit_6/bottleneck_v2/preact/gamma:0' shape=(1024,) dtype=float32_ref>,\n",
       " <tf.Variable 'resnet_v2_50/block3/unit_6/bottleneck_v2/preact/beta:0' shape=(1024,) dtype=float32_ref>,\n",
       " <tf.Variable 'resnet_v2_50/block3/unit_6/bottleneck_v2/conv1/weights:0' shape=(1, 1, 1024, 256) dtype=float32_ref>,\n",
       " <tf.Variable 'resnet_v2_50/block3/unit_6/bottleneck_v2/conv1/BatchNorm/gamma:0' shape=(256,) dtype=float32_ref>,\n",
       " <tf.Variable 'resnet_v2_50/block3/unit_6/bottleneck_v2/conv1/BatchNorm/beta:0' shape=(256,) dtype=float32_ref>,\n",
       " <tf.Variable 'resnet_v2_50/block3/unit_6/bottleneck_v2/conv2/weights:0' shape=(3, 3, 256, 256) dtype=float32_ref>,\n",
       " <tf.Variable 'resnet_v2_50/block3/unit_6/bottleneck_v2/conv2/BatchNorm/gamma:0' shape=(256,) dtype=float32_ref>,\n",
       " <tf.Variable 'resnet_v2_50/block3/unit_6/bottleneck_v2/conv2/BatchNorm/beta:0' shape=(256,) dtype=float32_ref>,\n",
       " <tf.Variable 'resnet_v2_50/block3/unit_6/bottleneck_v2/conv3/weights:0' shape=(1, 1, 256, 1024) dtype=float32_ref>,\n",
       " <tf.Variable 'resnet_v2_50/block3/unit_6/bottleneck_v2/conv3/biases:0' shape=(1024,) dtype=float32_ref>,\n",
       " <tf.Variable 'resnet_v2_50/block4/unit_1/bottleneck_v2/preact/gamma:0' shape=(1024,) dtype=float32_ref>,\n",
       " <tf.Variable 'resnet_v2_50/block4/unit_1/bottleneck_v2/preact/beta:0' shape=(1024,) dtype=float32_ref>,\n",
       " <tf.Variable 'resnet_v2_50/block4/unit_1/bottleneck_v2/shortcut/weights:0' shape=(1, 1, 1024, 2048) dtype=float32_ref>,\n",
       " <tf.Variable 'resnet_v2_50/block4/unit_1/bottleneck_v2/shortcut/biases:0' shape=(2048,) dtype=float32_ref>,\n",
       " <tf.Variable 'resnet_v2_50/block4/unit_1/bottleneck_v2/conv1/weights:0' shape=(1, 1, 1024, 512) dtype=float32_ref>,\n",
       " <tf.Variable 'resnet_v2_50/block4/unit_1/bottleneck_v2/conv1/BatchNorm/gamma:0' shape=(512,) dtype=float32_ref>,\n",
       " <tf.Variable 'resnet_v2_50/block4/unit_1/bottleneck_v2/conv1/BatchNorm/beta:0' shape=(512,) dtype=float32_ref>,\n",
       " <tf.Variable 'resnet_v2_50/block4/unit_1/bottleneck_v2/conv2/weights:0' shape=(3, 3, 512, 512) dtype=float32_ref>,\n",
       " <tf.Variable 'resnet_v2_50/block4/unit_1/bottleneck_v2/conv2/BatchNorm/gamma:0' shape=(512,) dtype=float32_ref>,\n",
       " <tf.Variable 'resnet_v2_50/block4/unit_1/bottleneck_v2/conv2/BatchNorm/beta:0' shape=(512,) dtype=float32_ref>,\n",
       " <tf.Variable 'resnet_v2_50/block4/unit_1/bottleneck_v2/conv3/weights:0' shape=(1, 1, 512, 2048) dtype=float32_ref>,\n",
       " <tf.Variable 'resnet_v2_50/block4/unit_1/bottleneck_v2/conv3/biases:0' shape=(2048,) dtype=float32_ref>,\n",
       " <tf.Variable 'resnet_v2_50/block4/unit_2/bottleneck_v2/preact/gamma:0' shape=(2048,) dtype=float32_ref>,\n",
       " <tf.Variable 'resnet_v2_50/block4/unit_2/bottleneck_v2/preact/beta:0' shape=(2048,) dtype=float32_ref>,\n",
       " <tf.Variable 'resnet_v2_50/block4/unit_2/bottleneck_v2/conv1/weights:0' shape=(1, 1, 2048, 512) dtype=float32_ref>,\n",
       " <tf.Variable 'resnet_v2_50/block4/unit_2/bottleneck_v2/conv1/BatchNorm/gamma:0' shape=(512,) dtype=float32_ref>,\n",
       " <tf.Variable 'resnet_v2_50/block4/unit_2/bottleneck_v2/conv1/BatchNorm/beta:0' shape=(512,) dtype=float32_ref>,\n",
       " <tf.Variable 'resnet_v2_50/block4/unit_2/bottleneck_v2/conv2/weights:0' shape=(3, 3, 512, 512) dtype=float32_ref>,\n",
       " <tf.Variable 'resnet_v2_50/block4/unit_2/bottleneck_v2/conv2/BatchNorm/gamma:0' shape=(512,) dtype=float32_ref>,\n",
       " <tf.Variable 'resnet_v2_50/block4/unit_2/bottleneck_v2/conv2/BatchNorm/beta:0' shape=(512,) dtype=float32_ref>,\n",
       " <tf.Variable 'resnet_v2_50/block4/unit_2/bottleneck_v2/conv3/weights:0' shape=(1, 1, 512, 2048) dtype=float32_ref>,\n",
       " <tf.Variable 'resnet_v2_50/block4/unit_2/bottleneck_v2/conv3/biases:0' shape=(2048,) dtype=float32_ref>,\n",
       " <tf.Variable 'resnet_v2_50/block4/unit_3/bottleneck_v2/preact/gamma:0' shape=(2048,) dtype=float32_ref>,\n",
       " <tf.Variable 'resnet_v2_50/block4/unit_3/bottleneck_v2/preact/beta:0' shape=(2048,) dtype=float32_ref>,\n",
       " <tf.Variable 'resnet_v2_50/block4/unit_3/bottleneck_v2/conv1/weights:0' shape=(1, 1, 2048, 512) dtype=float32_ref>,\n",
       " <tf.Variable 'resnet_v2_50/block4/unit_3/bottleneck_v2/conv1/BatchNorm/gamma:0' shape=(512,) dtype=float32_ref>,\n",
       " <tf.Variable 'resnet_v2_50/block4/unit_3/bottleneck_v2/conv1/BatchNorm/beta:0' shape=(512,) dtype=float32_ref>,\n",
       " <tf.Variable 'resnet_v2_50/block4/unit_3/bottleneck_v2/conv2/weights:0' shape=(3, 3, 512, 512) dtype=float32_ref>,\n",
       " <tf.Variable 'resnet_v2_50/block4/unit_3/bottleneck_v2/conv2/BatchNorm/gamma:0' shape=(512,) dtype=float32_ref>,\n",
       " <tf.Variable 'resnet_v2_50/block4/unit_3/bottleneck_v2/conv2/BatchNorm/beta:0' shape=(512,) dtype=float32_ref>,\n",
       " <tf.Variable 'resnet_v2_50/block4/unit_3/bottleneck_v2/conv3/weights:0' shape=(1, 1, 512, 2048) dtype=float32_ref>,\n",
       " <tf.Variable 'resnet_v2_50/block4/unit_3/bottleneck_v2/conv3/biases:0' shape=(2048,) dtype=float32_ref>,\n",
       " <tf.Variable 'resnet_v2_50/postnorm/gamma:0' shape=(2048,) dtype=float32_ref>,\n",
       " <tf.Variable 'resnet_v2_50/postnorm/beta:0' shape=(2048,) dtype=float32_ref>,\n",
       " <tf.Variable 'CLASS_1/dense/kernel:0' shape=(2048, 2) dtype=float32_ref>,\n",
       " <tf.Variable 'CLASS_1/dense/bias:0' shape=(2,) dtype=float32_ref>]"
      ]
     },
     "execution_count": 22,
     "metadata": {},
     "output_type": "execute_result"
    }
   ],
   "source": [
    "var_list"
   ]
  },
  {
   "cell_type": "code",
   "execution_count": 23,
   "metadata": {},
   "outputs": [
    {
     "name": "stdout",
     "output_type": "stream",
     "text": [
      "25600\n",
      "start modelling!\n"
     ]
    },
    {
     "data": {
      "application/vnd.jupyter.widget-view+json": {
       "model_id": "6977d3ff3cf74b04823290f4748a9ea7",
       "version_major": 2,
       "version_minor": 0
      },
      "text/html": [
       "<p>Failed to display Jupyter Widget of type <code>HBox</code>.</p>\n",
       "<p>\n",
       "  If you're reading this message in the Jupyter Notebook or JupyterLab Notebook, it may mean\n",
       "  that the widgets JavaScript is still loading. If this message persists, it\n",
       "  likely means that the widgets JavaScript library is either not installed or\n",
       "  not enabled. See the <a href=\"https://ipywidgets.readthedocs.io/en/stable/user_install.html\">Jupyter\n",
       "  Widgets Documentation</a> for setup instructions.\n",
       "</p>\n",
       "<p>\n",
       "  If you're reading this message in another frontend (for example, a static\n",
       "  rendering on GitHub or <a href=\"https://nbviewer.jupyter.org/\">NBViewer</a>),\n",
       "  it may mean that your frontend doesn't currently support widgets.\n",
       "</p>\n"
      ],
      "text/plain": [
       "HBox(children=(IntProgress(value=0), HTML(value='')))"
      ]
     },
     "metadata": {},
     "output_type": "display_data"
    },
    {
     "name": "stdout",
     "output_type": "stream",
     "text": [
      "\n",
      "epoch 1: training loss 0.2732629434391856 ; testing loss 1.3918185234069824, testing acc 0.7783911671924291\n",
      "Save Model!!\n"
     ]
    },
    {
     "data": {
      "application/vnd.jupyter.widget-view+json": {
       "model_id": "fa554a09414f4b4baebe61cf2987c891",
       "version_major": 2,
       "version_minor": 0
      },
      "text/html": [
       "<p>Failed to display Jupyter Widget of type <code>HBox</code>.</p>\n",
       "<p>\n",
       "  If you're reading this message in the Jupyter Notebook or JupyterLab Notebook, it may mean\n",
       "  that the widgets JavaScript is still loading. If this message persists, it\n",
       "  likely means that the widgets JavaScript library is either not installed or\n",
       "  not enabled. See the <a href=\"https://ipywidgets.readthedocs.io/en/stable/user_install.html\">Jupyter\n",
       "  Widgets Documentation</a> for setup instructions.\n",
       "</p>\n",
       "<p>\n",
       "  If you're reading this message in another frontend (for example, a static\n",
       "  rendering on GitHub or <a href=\"https://nbviewer.jupyter.org/\">NBViewer</a>),\n",
       "  it may mean that your frontend doesn't currently support widgets.\n",
       "</p>\n"
      ],
      "text/plain": [
       "HBox(children=(IntProgress(value=0), HTML(value='')))"
      ]
     },
     "metadata": {},
     "output_type": "display_data"
    },
    {
     "name": "stdout",
     "output_type": "stream",
     "text": [
      "\n",
      "epoch 2: training loss 0.17277078448794783 ; testing loss 1.7618376016616821, testing acc 0.7783911671924291\n"
     ]
    },
    {
     "data": {
      "application/vnd.jupyter.widget-view+json": {
       "model_id": "47fed66e008c4855a1dbb47caacc5b61",
       "version_major": 2,
       "version_minor": 0
      },
      "text/html": [
       "<p>Failed to display Jupyter Widget of type <code>HBox</code>.</p>\n",
       "<p>\n",
       "  If you're reading this message in the Jupyter Notebook or JupyterLab Notebook, it may mean\n",
       "  that the widgets JavaScript is still loading. If this message persists, it\n",
       "  likely means that the widgets JavaScript library is either not installed or\n",
       "  not enabled. See the <a href=\"https://ipywidgets.readthedocs.io/en/stable/user_install.html\">Jupyter\n",
       "  Widgets Documentation</a> for setup instructions.\n",
       "</p>\n",
       "<p>\n",
       "  If you're reading this message in another frontend (for example, a static\n",
       "  rendering on GitHub or <a href=\"https://nbviewer.jupyter.org/\">NBViewer</a>),\n",
       "  it may mean that your frontend doesn't currently support widgets.\n",
       "</p>\n"
      ],
      "text/plain": [
       "HBox(children=(IntProgress(value=0), HTML(value='')))"
      ]
     },
     "metadata": {},
     "output_type": "display_data"
    },
    {
     "name": "stdout",
     "output_type": "stream",
     "text": [
      "\n",
      "epoch 3: training loss 0.11507456277497113 ; testing loss 2.0182952880859375, testing acc 0.7783911671924291\n"
     ]
    },
    {
     "data": {
      "application/vnd.jupyter.widget-view+json": {
       "model_id": "a09dc3fc0f9443acb658bd82b2dc3bc9",
       "version_major": 2,
       "version_minor": 0
      },
      "text/html": [
       "<p>Failed to display Jupyter Widget of type <code>HBox</code>.</p>\n",
       "<p>\n",
       "  If you're reading this message in the Jupyter Notebook or JupyterLab Notebook, it may mean\n",
       "  that the widgets JavaScript is still loading. If this message persists, it\n",
       "  likely means that the widgets JavaScript library is either not installed or\n",
       "  not enabled. See the <a href=\"https://ipywidgets.readthedocs.io/en/stable/user_install.html\">Jupyter\n",
       "  Widgets Documentation</a> for setup instructions.\n",
       "</p>\n",
       "<p>\n",
       "  If you're reading this message in another frontend (for example, a static\n",
       "  rendering on GitHub or <a href=\"https://nbviewer.jupyter.org/\">NBViewer</a>),\n",
       "  it may mean that your frontend doesn't currently support widgets.\n",
       "</p>\n"
      ],
      "text/plain": [
       "HBox(children=(IntProgress(value=0), HTML(value='')))"
      ]
     },
     "metadata": {},
     "output_type": "display_data"
    },
    {
     "name": "stdout",
     "output_type": "stream",
     "text": [
      "\n",
      "epoch 4: training loss 0.08876749360759277 ; testing loss 0.4668683409690857, testing acc 0.8777602523659306\n",
      "Save Model!!\n"
     ]
    },
    {
     "data": {
      "application/vnd.jupyter.widget-view+json": {
       "model_id": "5a0ca7a555354a0a867f294a5c84f319",
       "version_major": 2,
       "version_minor": 0
      },
      "text/html": [
       "<p>Failed to display Jupyter Widget of type <code>HBox</code>.</p>\n",
       "<p>\n",
       "  If you're reading this message in the Jupyter Notebook or JupyterLab Notebook, it may mean\n",
       "  that the widgets JavaScript is still loading. If this message persists, it\n",
       "  likely means that the widgets JavaScript library is either not installed or\n",
       "  not enabled. See the <a href=\"https://ipywidgets.readthedocs.io/en/stable/user_install.html\">Jupyter\n",
       "  Widgets Documentation</a> for setup instructions.\n",
       "</p>\n",
       "<p>\n",
       "  If you're reading this message in another frontend (for example, a static\n",
       "  rendering on GitHub or <a href=\"https://nbviewer.jupyter.org/\">NBViewer</a>),\n",
       "  it may mean that your frontend doesn't currently support widgets.\n",
       "</p>\n"
      ],
      "text/plain": [
       "HBox(children=(IntProgress(value=0), HTML(value='')))"
      ]
     },
     "metadata": {},
     "output_type": "display_data"
    },
    {
     "name": "stdout",
     "output_type": "stream",
     "text": [
      "\n",
      "epoch 5: training loss 0.11470905096153729 ; testing loss 0.046187009662389755, testing acc 0.9850157728706624\n",
      "Save Model!!\n"
     ]
    },
    {
     "data": {
      "application/vnd.jupyter.widget-view+json": {
       "model_id": "6a3b7f098db94549ac33ad7e8d0ea66e",
       "version_major": 2,
       "version_minor": 0
      },
      "text/html": [
       "<p>Failed to display Jupyter Widget of type <code>HBox</code>.</p>\n",
       "<p>\n",
       "  If you're reading this message in the Jupyter Notebook or JupyterLab Notebook, it may mean\n",
       "  that the widgets JavaScript is still loading. If this message persists, it\n",
       "  likely means that the widgets JavaScript library is either not installed or\n",
       "  not enabled. See the <a href=\"https://ipywidgets.readthedocs.io/en/stable/user_install.html\">Jupyter\n",
       "  Widgets Documentation</a> for setup instructions.\n",
       "</p>\n",
       "<p>\n",
       "  If you're reading this message in another frontend (for example, a static\n",
       "  rendering on GitHub or <a href=\"https://nbviewer.jupyter.org/\">NBViewer</a>),\n",
       "  it may mean that your frontend doesn't currently support widgets.\n",
       "</p>\n"
      ],
      "text/plain": [
       "HBox(children=(IntProgress(value=0), HTML(value='')))"
      ]
     },
     "metadata": {},
     "output_type": "display_data"
    },
    {
     "name": "stdout",
     "output_type": "stream",
     "text": [
      "\n",
      "epoch 6: training loss 0.10866552102495916 ; testing loss 0.09132204204797745, testing acc 0.9700315457413249\n"
     ]
    },
    {
     "data": {
      "application/vnd.jupyter.widget-view+json": {
       "model_id": "3e45b82914fa440e9e9e3ab4ef2d68cb",
       "version_major": 2,
       "version_minor": 0
      },
      "text/html": [
       "<p>Failed to display Jupyter Widget of type <code>HBox</code>.</p>\n",
       "<p>\n",
       "  If you're reading this message in the Jupyter Notebook or JupyterLab Notebook, it may mean\n",
       "  that the widgets JavaScript is still loading. If this message persists, it\n",
       "  likely means that the widgets JavaScript library is either not installed or\n",
       "  not enabled. See the <a href=\"https://ipywidgets.readthedocs.io/en/stable/user_install.html\">Jupyter\n",
       "  Widgets Documentation</a> for setup instructions.\n",
       "</p>\n",
       "<p>\n",
       "  If you're reading this message in another frontend (for example, a static\n",
       "  rendering on GitHub or <a href=\"https://nbviewer.jupyter.org/\">NBViewer</a>),\n",
       "  it may mean that your frontend doesn't currently support widgets.\n",
       "</p>\n"
      ],
      "text/plain": [
       "HBox(children=(IntProgress(value=0), HTML(value='')))"
      ]
     },
     "metadata": {},
     "output_type": "display_data"
    },
    {
     "name": "stdout",
     "output_type": "stream",
     "text": [
      "\n",
      "epoch 7: training loss 0.08926210912526585 ; testing loss 0.09004966914653778, testing acc 0.9700315457413249\n"
     ]
    },
    {
     "data": {
      "application/vnd.jupyter.widget-view+json": {
       "model_id": "9713435e14a542b2a4eae6d68be95037",
       "version_major": 2,
       "version_minor": 0
      },
      "text/html": [
       "<p>Failed to display Jupyter Widget of type <code>HBox</code>.</p>\n",
       "<p>\n",
       "  If you're reading this message in the Jupyter Notebook or JupyterLab Notebook, it may mean\n",
       "  that the widgets JavaScript is still loading. If this message persists, it\n",
       "  likely means that the widgets JavaScript library is either not installed or\n",
       "  not enabled. See the <a href=\"https://ipywidgets.readthedocs.io/en/stable/user_install.html\">Jupyter\n",
       "  Widgets Documentation</a> for setup instructions.\n",
       "</p>\n",
       "<p>\n",
       "  If you're reading this message in another frontend (for example, a static\n",
       "  rendering on GitHub or <a href=\"https://nbviewer.jupyter.org/\">NBViewer</a>),\n",
       "  it may mean that your frontend doesn't currently support widgets.\n",
       "</p>\n"
      ],
      "text/plain": [
       "HBox(children=(IntProgress(value=0), HTML(value='')))"
      ]
     },
     "metadata": {},
     "output_type": "display_data"
    },
    {
     "name": "stdout",
     "output_type": "stream",
     "text": [
      "\n",
      "epoch 8: training loss 0.06879256607033313 ; testing loss 0.011688319966197014, testing acc 0.9960567823343849\n",
      "Save Model!!\n"
     ]
    },
    {
     "data": {
      "application/vnd.jupyter.widget-view+json": {
       "model_id": "7b616b5f2e9745edab1953ef7036d803",
       "version_major": 2,
       "version_minor": 0
      },
      "text/html": [
       "<p>Failed to display Jupyter Widget of type <code>HBox</code>.</p>\n",
       "<p>\n",
       "  If you're reading this message in the Jupyter Notebook or JupyterLab Notebook, it may mean\n",
       "  that the widgets JavaScript is still loading. If this message persists, it\n",
       "  likely means that the widgets JavaScript library is either not installed or\n",
       "  not enabled. See the <a href=\"https://ipywidgets.readthedocs.io/en/stable/user_install.html\">Jupyter\n",
       "  Widgets Documentation</a> for setup instructions.\n",
       "</p>\n",
       "<p>\n",
       "  If you're reading this message in another frontend (for example, a static\n",
       "  rendering on GitHub or <a href=\"https://nbviewer.jupyter.org/\">NBViewer</a>),\n",
       "  it may mean that your frontend doesn't currently support widgets.\n",
       "</p>\n"
      ],
      "text/plain": [
       "HBox(children=(IntProgress(value=0), HTML(value='')))"
      ]
     },
     "metadata": {},
     "output_type": "display_data"
    },
    {
     "name": "stdout",
     "output_type": "stream",
     "text": [
      "\n",
      "epoch 9: training loss 0.05575720595079474 ; testing loss 0.025891166180372238, testing acc 0.9921135646687698\n"
     ]
    },
    {
     "data": {
      "application/vnd.jupyter.widget-view+json": {
       "model_id": "96dec3cbfa1d4c84814be4e9baecabd7",
       "version_major": 2,
       "version_minor": 0
      },
      "text/html": [
       "<p>Failed to display Jupyter Widget of type <code>HBox</code>.</p>\n",
       "<p>\n",
       "  If you're reading this message in the Jupyter Notebook or JupyterLab Notebook, it may mean\n",
       "  that the widgets JavaScript is still loading. If this message persists, it\n",
       "  likely means that the widgets JavaScript library is either not installed or\n",
       "  not enabled. See the <a href=\"https://ipywidgets.readthedocs.io/en/stable/user_install.html\">Jupyter\n",
       "  Widgets Documentation</a> for setup instructions.\n",
       "</p>\n",
       "<p>\n",
       "  If you're reading this message in another frontend (for example, a static\n",
       "  rendering on GitHub or <a href=\"https://nbviewer.jupyter.org/\">NBViewer</a>),\n",
       "  it may mean that your frontend doesn't currently support widgets.\n",
       "</p>\n"
      ],
      "text/plain": [
       "HBox(children=(IntProgress(value=0), HTML(value='')))"
      ]
     },
     "metadata": {},
     "output_type": "display_data"
    },
    {
     "name": "stdout",
     "output_type": "stream",
     "text": [
      "\n",
      "epoch 10: training loss 0.07489172814806806 ; testing loss 0.01997029222548008, testing acc 0.9929022082018928\n"
     ]
    }
   ],
   "source": [
    "from tqdm import tqdm_notebook\n",
    "import time\n",
    "from sklearn.metrics import accuracy_score\n",
    "\n",
    "test_loss_min = 99\n",
    "epoch = 10\n",
    "bs = 32\n",
    "update_per_epoch = 100\n",
    "\n",
    "tr_loss = list()\n",
    "te_loss = list()\n",
    "tr_acc = list()\n",
    "te_acc = list()\n",
    "print(img.shape[0] * img.shape[1])\n",
    "train_gen = img_train_batch_generator(x_train_list, y_train, bs, img.shape[0] * img.shape[1])\n",
    "\n",
    "print('start modelling!')\n",
    "\n",
    "for i in range(epoch):\n",
    "    \n",
    "    #### calculate training loss & update variables ####\n",
    "    training_loss = 0\n",
    "    training_acc = 0\n",
    "    bar = tqdm_notebook(range(update_per_epoch))\n",
    "    for j in bar:\n",
    "        \n",
    "        x_batch, y_batch = next(train_gen)\n",
    "        \n",
    "        tr_pred, training_loss_batch, _ = sess.run([y_pred, loss, update], feed_dict={\n",
    "            input_data:x_batch,\n",
    "            y_true:y_batch,\n",
    "            is_training: True, \n",
    "            lr:1.7e-4\n",
    "        })\n",
    "        \n",
    "        training_loss += training_loss_batch\n",
    "        \n",
    "        training_acc_batch = accuracy_score(np.argmax(y_batch, axis=1), np.argmax(tr_pred, axis=1))\n",
    "        training_acc += training_acc_batch\n",
    "        \n",
    "        if j % 5 == 0:\n",
    "            bar.set_description('loss: %.4g' % training_loss_batch)\n",
    "\n",
    "    training_loss /= update_per_epoch\n",
    "    training_acc /= update_per_epoch\n",
    "    \n",
    "    #### calculate testing data loss ####\n",
    "    te_pred, testing_loss = sess.run([y_pred, loss], feed_dict={\n",
    "        input_data:x_test,\n",
    "        y_true:y_test,\n",
    "        is_training: False\n",
    "    })\n",
    "    \n",
    "    testing_acc = accuracy_score(np.argmax(y_test, axis=1), np.argmax(te_pred, axis=1))\n",
    "    \n",
    "    tr_loss.append(training_loss)\n",
    "    te_loss.append(testing_loss)\n",
    "    tr_acc.append(training_acc)\n",
    "    te_acc.append(testing_acc)\n",
    "    \n",
    "    print('epoch {epochs}: training loss {training_loss} ; testing loss {testing_loss}, testing acc {testing_acc}'.format(\n",
    "            epochs=(i+1), \n",
    "            training_loss=training_loss,\n",
    "            testing_loss=testing_loss,\n",
    "            testing_acc=testing_acc))\n",
    "    if test_loss_min > testing_loss:\n",
    "        test_loss_min = testing_loss\n",
    "        save_path = saver.save(sess, \"/home/jovyan/Spoof_face_detect/model_checkpoint/model_Resnet.ckpt\")\n",
    "        print('Save Model!!')\n",
    "        "
   ]
  },
  {
   "cell_type": "markdown",
   "metadata": {},
   "source": [
    "## Old Model"
   ]
  },
  {
   "cell_type": "markdown",
   "metadata": {},
   "source": [
    "## Restore Model"
   ]
  },
  {
   "cell_type": "code",
   "execution_count": 24,
   "metadata": {},
   "outputs": [
    {
     "name": "stdout",
     "output_type": "stream",
     "text": [
      "INFO:tensorflow:Restoring parameters from /home/jovyan/Spoof_face_detect/model_checkpoint/model_Resnet.ckpt\n"
     ]
    }
   ],
   "source": [
    "# saver = tf.train.Saver()\n",
    "saver.restore(sess, \"/home/jovyan/Spoof_face_detect/model_checkpoint/model_Resnet.ckpt\")"
   ]
  },
  {
   "cell_type": "code",
   "execution_count": 25,
   "metadata": {},
   "outputs": [
    {
     "data": {
      "text/plain": [
       "Text(0.5,1,'Accuracy')"
      ]
     },
     "execution_count": 25,
     "metadata": {},
     "output_type": "execute_result"
    },
    {
     "data": {
      "image/png": "[encoded data removed]",
      "text/plain": [
       "<matplotlib.figure.Figure at 0x7face822e748>"
      ]
     },
     "metadata": {},
     "output_type": "display_data"
    }
   ],
   "source": [
    "plt.figure(1)\n",
    "plt.subplot(121)\n",
    "plt.plot(range(len(tr_loss)), tr_loss, label='training')\n",
    "plt.plot(range(len(te_loss)), te_loss, label='validation')\n",
    "plt.title('Loss')\n",
    "plt.legend(loc='best')\n",
    "plt.subplot(122)\n",
    "plt.plot(range(len(tr_acc)), tr_acc, label='training')\n",
    "plt.plot(range(len(te_acc)), te_acc, label='validation')\n",
    "plt.title('Accuracy')"
   ]
  },
  {
   "cell_type": "markdown",
   "metadata": {},
   "source": [
    "## Test Data"
   ]
  },
  {
   "cell_type": "code",
   "execution_count": 26,
   "metadata": {},
   "outputs": [
    {
     "name": "stdout",
     "output_type": "stream",
     "text": [
      "/home/jovyan/projectdata/emc01/test\n",
      "檔案： ._real\n",
      "檔案： ._.DS_Store\n",
      "目錄： fake_photo\n",
      "檔案： ._fake_photo\n",
      "目錄： real\n",
      "檔案： .DS_Store\n",
      "目錄： fake_phonescreen\n",
      "檔案： ._fake_phonescreen\n",
      "/home/jovyan/projectdata/emc01/test7_plate2_0328All\n",
      "檔案： ._real\n",
      "檔案： ._.DS_Store\n",
      "目錄： fake_photo\n",
      "檔案： ._fake_photo\n",
      "目錄： real\n",
      "檔案： .DS_Store\n",
      "目錄： fake_phonescreen\n",
      "檔案： ._fake_phonescreen\n",
      "/home/jovyan/at071-group30/face_images/casia/test_frames/\n",
      "目錄： real\n",
      "目錄： fake\n",
      "目錄： .ipynb_checkpoints\n"
     ]
    }
   ],
   "source": [
    "#!/usr/bin/python\n",
    "# -*- coding: utf-8 -*-\n",
    "from os import listdir\n",
    "from os.path import isfile, isdir, join\n",
    "\n",
    "# 指定要列出所有檔案的目錄\n",
    "# mypath = \"/home/jovyan/projectdata/emc01/test7_plate2_0328All\"\n",
    "mypath = [\"/home/jovyan/projectdata/emc01/test\", \"/home/jovyan/projectdata/emc01/test7_plate2_0328All\", \"/home/jovyan/at071-group30/face_images/casia/test_frames/\"]\n",
    "# mypath = \"/home/jovyan/at071-group30/\"\n",
    "# mypath = \"/home/jovyan/projectdata/emc01/casia/test_frames\"\n",
    "# mypath = \"/home/jovyan/at071-group30/face_images/casia/test_frames/\"\n",
    "\n",
    "# # 取得所有檔案與子目錄名稱\n",
    "# files = listdir(mypath)\n",
    "\n",
    "Class_list = []\n",
    "Class_label_list = []\n",
    "Path_list = []\n",
    "for i in mypath:\n",
    "    # 取得所有檔案與子目錄名稱\n",
    "    print(i)\n",
    "    files = listdir(i)\n",
    "    # 以迴圈處理\n",
    "    for f in files:\n",
    "        # 產生檔案的絕對路徑\n",
    "        fullpath = join(i, f)\n",
    "        # 判斷 fullpath 是檔案還是目錄\n",
    "        if isfile(fullpath):\n",
    "            print(\"檔案：\", f)\n",
    "        elif isdir(fullpath):\n",
    "            print(\"目錄：\", f)\n",
    "            if (f == 'fake_photo') | (f == 'fake_phonescreen') | (f == 'fake'):\n",
    "                label = 0\n",
    "            elif f == 'real':\n",
    "                label = 1\n",
    "            else:\n",
    "                label = 999\n",
    "            sub_files = listdir(fullpath)\n",
    "            for ff in sub_files:\n",
    "                if (ff[0:2] != '._') & (ff != '.ipynb_checkpoints'):\n",
    "                    Class_list.append(f)\n",
    "                    Class_label_list.append(label)\n",
    "                    Path_list.append(fullpath + '/' + ff)"
   ]
  },
  {
   "cell_type": "code",
   "execution_count": 27,
   "metadata": {},
   "outputs": [
    {
     "data": {
      "text/plain": [
       "9706"
      ]
     },
     "execution_count": 27,
     "metadata": {},
     "output_type": "execute_result"
    }
   ],
   "source": [
    "len(Class_list)"
   ]
  },
  {
   "cell_type": "code",
   "execution_count": 28,
   "metadata": {},
   "outputs": [
    {
     "data": {
      "text/plain": [
       "9706"
      ]
     },
     "execution_count": 28,
     "metadata": {},
     "output_type": "execute_result"
    }
   ],
   "source": [
    "len(Class_label_list)"
   ]
  },
  {
   "cell_type": "code",
   "execution_count": 29,
   "metadata": {},
   "outputs": [
    {
     "data": {
      "text/plain": [
       "9706"
      ]
     },
     "execution_count": 29,
     "metadata": {},
     "output_type": "execute_result"
    }
   ],
   "source": [
    "len(Path_list)"
   ]
  },
  {
   "cell_type": "code",
   "execution_count": 30,
   "metadata": {},
   "outputs": [
    {
     "data": {
      "text/html": [
       "<div>\n",
       "<table border=\"1\" class=\"dataframe\">\n",
       "  <thead>\n",
       "    <tr style=\"text-align: right;\">\n",
       "      <th></th>\n",
       "      <th>Class</th>\n",
       "      <th>Class_label</th>\n",
       "      <th>Path</th>\n",
       "    </tr>\n",
       "  </thead>\n",
       "  <tbody>\n",
       "    <tr>\n",
       "      <th>0</th>\n",
       "      <td>fake_photo</td>\n",
       "      <td>0</td>\n",
       "      <td>/home/jovyan/projectdata/emc01/test/fake_photo...</td>\n",
       "    </tr>\n",
       "    <tr>\n",
       "      <th>1</th>\n",
       "      <td>fake_photo</td>\n",
       "      <td>0</td>\n",
       "      <td>/home/jovyan/projectdata/emc01/test/fake_photo...</td>\n",
       "    </tr>\n",
       "    <tr>\n",
       "      <th>2</th>\n",
       "      <td>fake_photo</td>\n",
       "      <td>0</td>\n",
       "      <td>/home/jovyan/projectdata/emc01/test/fake_photo...</td>\n",
       "    </tr>\n",
       "    <tr>\n",
       "      <th>3</th>\n",
       "      <td>fake_photo</td>\n",
       "      <td>0</td>\n",
       "      <td>/home/jovyan/projectdata/emc01/test/fake_photo...</td>\n",
       "    </tr>\n",
       "    <tr>\n",
       "      <th>4</th>\n",
       "      <td>fake_photo</td>\n",
       "      <td>0</td>\n",
       "      <td>/home/jovyan/projectdata/emc01/test/fake_photo...</td>\n",
       "    </tr>\n",
       "    <tr>\n",
       "      <th>5</th>\n",
       "      <td>fake_photo</td>\n",
       "      <td>0</td>\n",
       "      <td>/home/jovyan/projectdata/emc01/test/fake_photo...</td>\n",
       "    </tr>\n",
       "    <tr>\n",
       "      <th>6</th>\n",
       "      <td>fake_photo</td>\n",
       "      <td>0</td>\n",
       "      <td>/home/jovyan/projectdata/emc01/test/fake_photo...</td>\n",
       "    </tr>\n",
       "    <tr>\n",
       "      <th>7</th>\n",
       "      <td>fake_photo</td>\n",
       "      <td>0</td>\n",
       "      <td>/home/jovyan/projectdata/emc01/test/fake_photo...</td>\n",
       "    </tr>\n",
       "    <tr>\n",
       "      <th>8</th>\n",
       "      <td>fake_photo</td>\n",
       "      <td>0</td>\n",
       "      <td>/home/jovyan/projectdata/emc01/test/fake_photo...</td>\n",
       "    </tr>\n",
       "    <tr>\n",
       "      <th>9</th>\n",
       "      <td>fake_photo</td>\n",
       "      <td>0</td>\n",
       "      <td>/home/jovyan/projectdata/emc01/test/fake_photo...</td>\n",
       "    </tr>\n",
       "    <tr>\n",
       "      <th>10</th>\n",
       "      <td>fake_photo</td>\n",
       "      <td>0</td>\n",
       "      <td>/home/jovyan/projectdata/emc01/test/fake_photo...</td>\n",
       "    </tr>\n",
       "    <tr>\n",
       "      <th>11</th>\n",
       "      <td>fake_photo</td>\n",
       "      <td>0</td>\n",
       "      <td>/home/jovyan/projectdata/emc01/test/fake_photo...</td>\n",
       "    </tr>\n",
       "    <tr>\n",
       "      <th>12</th>\n",
       "      <td>fake_photo</td>\n",
       "      <td>0</td>\n",
       "      <td>/home/jovyan/projectdata/emc01/test/fake_photo...</td>\n",
       "    </tr>\n",
       "    <tr>\n",
       "      <th>13</th>\n",
       "      <td>fake_photo</td>\n",
       "      <td>0</td>\n",
       "      <td>/home/jovyan/projectdata/emc01/test/fake_photo...</td>\n",
       "    </tr>\n",
       "    <tr>\n",
       "      <th>14</th>\n",
       "      <td>fake_photo</td>\n",
       "      <td>0</td>\n",
       "      <td>/home/jovyan/projectdata/emc01/test/fake_photo...</td>\n",
       "    </tr>\n",
       "    <tr>\n",
       "      <th>15</th>\n",
       "      <td>fake_photo</td>\n",
       "      <td>0</td>\n",
       "      <td>/home/jovyan/projectdata/emc01/test/fake_photo...</td>\n",
       "    </tr>\n",
       "    <tr>\n",
       "      <th>16</th>\n",
       "      <td>fake_photo</td>\n",
       "      <td>0</td>\n",
       "      <td>/home/jovyan/projectdata/emc01/test/fake_photo...</td>\n",
       "    </tr>\n",
       "    <tr>\n",
       "      <th>17</th>\n",
       "      <td>fake_photo</td>\n",
       "      <td>0</td>\n",
       "      <td>/home/jovyan/projectdata/emc01/test/fake_photo...</td>\n",
       "    </tr>\n",
       "    <tr>\n",
       "      <th>18</th>\n",
       "      <td>fake_photo</td>\n",
       "      <td>0</td>\n",
       "      <td>/home/jovyan/projectdata/emc01/test/fake_photo...</td>\n",
       "    </tr>\n",
       "    <tr>\n",
       "      <th>19</th>\n",
       "      <td>fake_photo</td>\n",
       "      <td>0</td>\n",
       "      <td>/home/jovyan/projectdata/emc01/test/fake_photo...</td>\n",
       "    </tr>\n",
       "    <tr>\n",
       "      <th>20</th>\n",
       "      <td>fake_photo</td>\n",
       "      <td>0</td>\n",
       "      <td>/home/jovyan/projectdata/emc01/test/fake_photo...</td>\n",
       "    </tr>\n",
       "    <tr>\n",
       "      <th>21</th>\n",
       "      <td>fake_photo</td>\n",
       "      <td>0</td>\n",
       "      <td>/home/jovyan/projectdata/emc01/test/fake_photo...</td>\n",
       "    </tr>\n",
       "    <tr>\n",
       "      <th>22</th>\n",
       "      <td>fake_photo</td>\n",
       "      <td>0</td>\n",
       "      <td>/home/jovyan/projectdata/emc01/test/fake_photo...</td>\n",
       "    </tr>\n",
       "    <tr>\n",
       "      <th>23</th>\n",
       "      <td>fake_photo</td>\n",
       "      <td>0</td>\n",
       "      <td>/home/jovyan/projectdata/emc01/test/fake_photo...</td>\n",
       "    </tr>\n",
       "    <tr>\n",
       "      <th>24</th>\n",
       "      <td>fake_photo</td>\n",
       "      <td>0</td>\n",
       "      <td>/home/jovyan/projectdata/emc01/test/fake_photo...</td>\n",
       "    </tr>\n",
       "    <tr>\n",
       "      <th>25</th>\n",
       "      <td>fake_photo</td>\n",
       "      <td>0</td>\n",
       "      <td>/home/jovyan/projectdata/emc01/test/fake_photo...</td>\n",
       "    </tr>\n",
       "    <tr>\n",
       "      <th>26</th>\n",
       "      <td>fake_photo</td>\n",
       "      <td>0</td>\n",
       "      <td>/home/jovyan/projectdata/emc01/test/fake_photo...</td>\n",
       "    </tr>\n",
       "    <tr>\n",
       "      <th>27</th>\n",
       "      <td>fake_photo</td>\n",
       "      <td>0</td>\n",
       "      <td>/home/jovyan/projectdata/emc01/test/fake_photo...</td>\n",
       "    </tr>\n",
       "    <tr>\n",
       "      <th>28</th>\n",
       "      <td>fake_photo</td>\n",
       "      <td>0</td>\n",
       "      <td>/home/jovyan/projectdata/emc01/test/fake_photo...</td>\n",
       "    </tr>\n",
       "    <tr>\n",
       "      <th>29</th>\n",
       "      <td>fake_photo</td>\n",
       "      <td>0</td>\n",
       "      <td>/home/jovyan/projectdata/emc01/test/fake_photo...</td>\n",
       "    </tr>\n",
       "    <tr>\n",
       "      <th>...</th>\n",
       "      <td>...</td>\n",
       "      <td>...</td>\n",
       "      <td>...</td>\n",
       "    </tr>\n",
       "    <tr>\n",
       "      <th>9676</th>\n",
       "      <td>fake</td>\n",
       "      <td>0</td>\n",
       "      <td>/home/jovyan/at071-group30/face_images/casia/t...</td>\n",
       "    </tr>\n",
       "    <tr>\n",
       "      <th>9677</th>\n",
       "      <td>fake</td>\n",
       "      <td>0</td>\n",
       "      <td>/home/jovyan/at071-group30/face_images/casia/t...</td>\n",
       "    </tr>\n",
       "    <tr>\n",
       "      <th>9678</th>\n",
       "      <td>fake</td>\n",
       "      <td>0</td>\n",
       "      <td>/home/jovyan/at071-group30/face_images/casia/t...</td>\n",
       "    </tr>\n",
       "    <tr>\n",
       "      <th>9679</th>\n",
       "      <td>fake</td>\n",
       "      <td>0</td>\n",
       "      <td>/home/jovyan/at071-group30/face_images/casia/t...</td>\n",
       "    </tr>\n",
       "    <tr>\n",
       "      <th>9680</th>\n",
       "      <td>fake</td>\n",
       "      <td>0</td>\n",
       "      <td>/home/jovyan/at071-group30/face_images/casia/t...</td>\n",
       "    </tr>\n",
       "    <tr>\n",
       "      <th>9681</th>\n",
       "      <td>fake</td>\n",
       "      <td>0</td>\n",
       "      <td>/home/jovyan/at071-group30/face_images/casia/t...</td>\n",
       "    </tr>\n",
       "    <tr>\n",
       "      <th>9682</th>\n",
       "      <td>fake</td>\n",
       "      <td>0</td>\n",
       "      <td>/home/jovyan/at071-group30/face_images/casia/t...</td>\n",
       "    </tr>\n",
       "    <tr>\n",
       "      <th>9683</th>\n",
       "      <td>fake</td>\n",
       "      <td>0</td>\n",
       "      <td>/home/jovyan/at071-group30/face_images/casia/t...</td>\n",
       "    </tr>\n",
       "    <tr>\n",
       "      <th>9684</th>\n",
       "      <td>fake</td>\n",
       "      <td>0</td>\n",
       "      <td>/home/jovyan/at071-group30/face_images/casia/t...</td>\n",
       "    </tr>\n",
       "    <tr>\n",
       "      <th>9685</th>\n",
       "      <td>fake</td>\n",
       "      <td>0</td>\n",
       "      <td>/home/jovyan/at071-group30/face_images/casia/t...</td>\n",
       "    </tr>\n",
       "    <tr>\n",
       "      <th>9686</th>\n",
       "      <td>fake</td>\n",
       "      <td>0</td>\n",
       "      <td>/home/jovyan/at071-group30/face_images/casia/t...</td>\n",
       "    </tr>\n",
       "    <tr>\n",
       "      <th>9687</th>\n",
       "      <td>fake</td>\n",
       "      <td>0</td>\n",
       "      <td>/home/jovyan/at071-group30/face_images/casia/t...</td>\n",
       "    </tr>\n",
       "    <tr>\n",
       "      <th>9688</th>\n",
       "      <td>fake</td>\n",
       "      <td>0</td>\n",
       "      <td>/home/jovyan/at071-group30/face_images/casia/t...</td>\n",
       "    </tr>\n",
       "    <tr>\n",
       "      <th>9689</th>\n",
       "      <td>fake</td>\n",
       "      <td>0</td>\n",
       "      <td>/home/jovyan/at071-group30/face_images/casia/t...</td>\n",
       "    </tr>\n",
       "    <tr>\n",
       "      <th>9690</th>\n",
       "      <td>fake</td>\n",
       "      <td>0</td>\n",
       "      <td>/home/jovyan/at071-group30/face_images/casia/t...</td>\n",
       "    </tr>\n",
       "    <tr>\n",
       "      <th>9691</th>\n",
       "      <td>fake</td>\n",
       "      <td>0</td>\n",
       "      <td>/home/jovyan/at071-group30/face_images/casia/t...</td>\n",
       "    </tr>\n",
       "    <tr>\n",
       "      <th>9692</th>\n",
       "      <td>fake</td>\n",
       "      <td>0</td>\n",
       "      <td>/home/jovyan/at071-group30/face_images/casia/t...</td>\n",
       "    </tr>\n",
       "    <tr>\n",
       "      <th>9693</th>\n",
       "      <td>fake</td>\n",
       "      <td>0</td>\n",
       "      <td>/home/jovyan/at071-group30/face_images/casia/t...</td>\n",
       "    </tr>\n",
       "    <tr>\n",
       "      <th>9694</th>\n",
       "      <td>fake</td>\n",
       "      <td>0</td>\n",
       "      <td>/home/jovyan/at071-group30/face_images/casia/t...</td>\n",
       "    </tr>\n",
       "    <tr>\n",
       "      <th>9695</th>\n",
       "      <td>fake</td>\n",
       "      <td>0</td>\n",
       "      <td>/home/jovyan/at071-group30/face_images/casia/t...</td>\n",
       "    </tr>\n",
       "    <tr>\n",
       "      <th>9696</th>\n",
       "      <td>fake</td>\n",
       "      <td>0</td>\n",
       "      <td>/home/jovyan/at071-group30/face_images/casia/t...</td>\n",
       "    </tr>\n",
       "    <tr>\n",
       "      <th>9697</th>\n",
       "      <td>fake</td>\n",
       "      <td>0</td>\n",
       "      <td>/home/jovyan/at071-group30/face_images/casia/t...</td>\n",
       "    </tr>\n",
       "    <tr>\n",
       "      <th>9698</th>\n",
       "      <td>fake</td>\n",
       "      <td>0</td>\n",
       "      <td>/home/jovyan/at071-group30/face_images/casia/t...</td>\n",
       "    </tr>\n",
       "    <tr>\n",
       "      <th>9699</th>\n",
       "      <td>fake</td>\n",
       "      <td>0</td>\n",
       "      <td>/home/jovyan/at071-group30/face_images/casia/t...</td>\n",
       "    </tr>\n",
       "    <tr>\n",
       "      <th>9700</th>\n",
       "      <td>fake</td>\n",
       "      <td>0</td>\n",
       "      <td>/home/jovyan/at071-group30/face_images/casia/t...</td>\n",
       "    </tr>\n",
       "    <tr>\n",
       "      <th>9701</th>\n",
       "      <td>fake</td>\n",
       "      <td>0</td>\n",
       "      <td>/home/jovyan/at071-group30/face_images/casia/t...</td>\n",
       "    </tr>\n",
       "    <tr>\n",
       "      <th>9702</th>\n",
       "      <td>fake</td>\n",
       "      <td>0</td>\n",
       "      <td>/home/jovyan/at071-group30/face_images/casia/t...</td>\n",
       "    </tr>\n",
       "    <tr>\n",
       "      <th>9703</th>\n",
       "      <td>fake</td>\n",
       "      <td>0</td>\n",
       "      <td>/home/jovyan/at071-group30/face_images/casia/t...</td>\n",
       "    </tr>\n",
       "    <tr>\n",
       "      <th>9704</th>\n",
       "      <td>fake</td>\n",
       "      <td>0</td>\n",
       "      <td>/home/jovyan/at071-group30/face_images/casia/t...</td>\n",
       "    </tr>\n",
       "    <tr>\n",
       "      <th>9705</th>\n",
       "      <td>fake</td>\n",
       "      <td>0</td>\n",
       "      <td>/home/jovyan/at071-group30/face_images/casia/t...</td>\n",
       "    </tr>\n",
       "  </tbody>\n",
       "</table>\n",
       "<p>9706 rows × 3 columns</p>\n",
       "</div>"
      ],
      "text/plain": [
       "           Class  Class_label  \\\n",
       "0     fake_photo            0   \n",
       "1     fake_photo            0   \n",
       "2     fake_photo            0   \n",
       "3     fake_photo            0   \n",
       "4     fake_photo            0   \n",
       "5     fake_photo            0   \n",
       "6     fake_photo            0   \n",
       "7     fake_photo            0   \n",
       "8     fake_photo            0   \n",
       "9     fake_photo            0   \n",
       "10    fake_photo            0   \n",
       "11    fake_photo            0   \n",
       "12    fake_photo            0   \n",
       "13    fake_photo            0   \n",
       "14    fake_photo            0   \n",
       "15    fake_photo            0   \n",
       "16    fake_photo            0   \n",
       "17    fake_photo            0   \n",
       "18    fake_photo            0   \n",
       "19    fake_photo            0   \n",
       "20    fake_photo            0   \n",
       "21    fake_photo            0   \n",
       "22    fake_photo            0   \n",
       "23    fake_photo            0   \n",
       "24    fake_photo            0   \n",
       "25    fake_photo            0   \n",
       "26    fake_photo            0   \n",
       "27    fake_photo            0   \n",
       "28    fake_photo            0   \n",
       "29    fake_photo            0   \n",
       "...          ...          ...   \n",
       "9676        fake            0   \n",
       "9677        fake            0   \n",
       "9678        fake            0   \n",
       "9679        fake            0   \n",
       "9680        fake            0   \n",
       "9681        fake            0   \n",
       "9682        fake            0   \n",
       "9683        fake            0   \n",
       "9684        fake            0   \n",
       "9685        fake            0   \n",
       "9686        fake            0   \n",
       "9687        fake            0   \n",
       "9688        fake            0   \n",
       "9689        fake            0   \n",
       "9690        fake            0   \n",
       "9691        fake            0   \n",
       "9692        fake            0   \n",
       "9693        fake            0   \n",
       "9694        fake            0   \n",
       "9695        fake            0   \n",
       "9696        fake            0   \n",
       "9697        fake            0   \n",
       "9698        fake            0   \n",
       "9699        fake            0   \n",
       "9700        fake            0   \n",
       "9701        fake            0   \n",
       "9702        fake            0   \n",
       "9703        fake            0   \n",
       "9704        fake            0   \n",
       "9705        fake            0   \n",
       "\n",
       "                                                   Path  \n",
       "0     /home/jovyan/projectdata/emc01/test/fake_photo...  \n",
       "1     /home/jovyan/projectdata/emc01/test/fake_photo...  \n",
       "2     /home/jovyan/projectdata/emc01/test/fake_photo...  \n",
       "3     /home/jovyan/projectdata/emc01/test/fake_photo...  \n",
       "4     /home/jovyan/projectdata/emc01/test/fake_photo...  \n",
       "5     /home/jovyan/projectdata/emc01/test/fake_photo...  \n",
       "6     /home/jovyan/projectdata/emc01/test/fake_photo...  \n",
       "7     /home/jovyan/projectdata/emc01/test/fake_photo...  \n",
       "8     /home/jovyan/projectdata/emc01/test/fake_photo...  \n",
       "9     /home/jovyan/projectdata/emc01/test/fake_photo...  \n",
       "10    /home/jovyan/projectdata/emc01/test/fake_photo...  \n",
       "11    /home/jovyan/projectdata/emc01/test/fake_photo...  \n",
       "12    /home/jovyan/projectdata/emc01/test/fake_photo...  \n",
       "13    /home/jovyan/projectdata/emc01/test/fake_photo...  \n",
       "14    /home/jovyan/projectdata/emc01/test/fake_photo...  \n",
       "15    /home/jovyan/projectdata/emc01/test/fake_photo...  \n",
       "16    /home/jovyan/projectdata/emc01/test/fake_photo...  \n",
       "17    /home/jovyan/projectdata/emc01/test/fake_photo...  \n",
       "18    /home/jovyan/projectdata/emc01/test/fake_photo...  \n",
       "19    /home/jovyan/projectdata/emc01/test/fake_photo...  \n",
       "20    /home/jovyan/projectdata/emc01/test/fake_photo...  \n",
       "21    /home/jovyan/projectdata/emc01/test/fake_photo...  \n",
       "22    /home/jovyan/projectdata/emc01/test/fake_photo...  \n",
       "23    /home/jovyan/projectdata/emc01/test/fake_photo...  \n",
       "24    /home/jovyan/projectdata/emc01/test/fake_photo...  \n",
       "25    /home/jovyan/projectdata/emc01/test/fake_photo...  \n",
       "26    /home/jovyan/projectdata/emc01/test/fake_photo...  \n",
       "27    /home/jovyan/projectdata/emc01/test/fake_photo...  \n",
       "28    /home/jovyan/projectdata/emc01/test/fake_photo...  \n",
       "29    /home/jovyan/projectdata/emc01/test/fake_photo...  \n",
       "...                                                 ...  \n",
       "9676  /home/jovyan/at071-group30/face_images/casia/t...  \n",
       "9677  /home/jovyan/at071-group30/face_images/casia/t...  \n",
       "9678  /home/jovyan/at071-group30/face_images/casia/t...  \n",
       "9679  /home/jovyan/at071-group30/face_images/casia/t...  \n",
       "9680  /home/jovyan/at071-group30/face_images/casia/t...  \n",
       "9681  /home/jovyan/at071-group30/face_images/casia/t...  \n",
       "9682  /home/jovyan/at071-group30/face_images/casia/t...  \n",
       "9683  /home/jovyan/at071-group30/face_images/casia/t...  \n",
       "9684  /home/jovyan/at071-group30/face_images/casia/t...  \n",
       "9685  /home/jovyan/at071-group30/face_images/casia/t...  \n",
       "9686  /home/jovyan/at071-group30/face_images/casia/t...  \n",
       "9687  /home/jovyan/at071-group30/face_images/casia/t...  \n",
       "9688  /home/jovyan/at071-group30/face_images/casia/t...  \n",
       "9689  /home/jovyan/at071-group30/face_images/casia/t...  \n",
       "9690  /home/jovyan/at071-group30/face_images/casia/t...  \n",
       "9691  /home/jovyan/at071-group30/face_images/casia/t...  \n",
       "9692  /home/jovyan/at071-group30/face_images/casia/t...  \n",
       "9693  /home/jovyan/at071-group30/face_images/casia/t...  \n",
       "9694  /home/jovyan/at071-group30/face_images/casia/t...  \n",
       "9695  /home/jovyan/at071-group30/face_images/casia/t...  \n",
       "9696  /home/jovyan/at071-group30/face_images/casia/t...  \n",
       "9697  /home/jovyan/at071-group30/face_images/casia/t...  \n",
       "9698  /home/jovyan/at071-group30/face_images/casia/t...  \n",
       "9699  /home/jovyan/at071-group30/face_images/casia/t...  \n",
       "9700  /home/jovyan/at071-group30/face_images/casia/t...  \n",
       "9701  /home/jovyan/at071-group30/face_images/casia/t...  \n",
       "9702  /home/jovyan/at071-group30/face_images/casia/t...  \n",
       "9703  /home/jovyan/at071-group30/face_images/casia/t...  \n",
       "9704  /home/jovyan/at071-group30/face_images/casia/t...  \n",
       "9705  /home/jovyan/at071-group30/face_images/casia/t...  \n",
       "\n",
       "[9706 rows x 3 columns]"
      ]
     },
     "execution_count": 30,
     "metadata": {},
     "output_type": "execute_result"
    }
   ],
   "source": [
    "testset_df =pd.DataFrame({'Class':Class_list, 'Class_label':Class_label_list ,'Path':Path_list})\n",
    "# testset_df = testset_df[testset_df.Class == 'face_images']\n",
    "testset_df"
   ]
  },
  {
   "cell_type": "code",
   "execution_count": 31,
   "metadata": {},
   "outputs": [
    {
     "data": {
      "text/html": [
       "<div>\n",
       "<table border=\"1\" class=\"dataframe\">\n",
       "  <thead>\n",
       "    <tr style=\"text-align: right;\">\n",
       "      <th></th>\n",
       "      <th>Class</th>\n",
       "      <th>Path</th>\n",
       "    </tr>\n",
       "    <tr>\n",
       "      <th>Class_label</th>\n",
       "      <th></th>\n",
       "      <th></th>\n",
       "    </tr>\n",
       "  </thead>\n",
       "  <tbody>\n",
       "    <tr>\n",
       "      <th>0</th>\n",
       "      <td>7397</td>\n",
       "      <td>7397</td>\n",
       "    </tr>\n",
       "    <tr>\n",
       "      <th>1</th>\n",
       "      <td>2309</td>\n",
       "      <td>2309</td>\n",
       "    </tr>\n",
       "  </tbody>\n",
       "</table>\n",
       "</div>"
      ],
      "text/plain": [
       "             Class  Path\n",
       "Class_label             \n",
       "0             7397  7397\n",
       "1             2309  2309"
      ]
     },
     "execution_count": 31,
     "metadata": {},
     "output_type": "execute_result"
    }
   ],
   "source": [
    "testset_df.groupby(['Class_label']).count()"
   ]
  },
  {
   "cell_type": "code",
   "execution_count": 32,
   "metadata": {},
   "outputs": [
    {
     "data": {
      "application/vnd.jupyter.widget-view+json": {
       "model_id": "7bb37715f70344629bf70e5596a50642",
       "version_major": 2,
       "version_minor": 0
      },
      "text/html": [
       "<p>Failed to display Jupyter Widget of type <code>HBox</code>.</p>\n",
       "<p>\n",
       "  If you're reading this message in the Jupyter Notebook or JupyterLab Notebook, it may mean\n",
       "  that the widgets JavaScript is still loading. If this message persists, it\n",
       "  likely means that the widgets JavaScript library is either not installed or\n",
       "  not enabled. See the <a href=\"https://ipywidgets.readthedocs.io/en/stable/user_install.html\">Jupyter\n",
       "  Widgets Documentation</a> for setup instructions.\n",
       "</p>\n",
       "<p>\n",
       "  If you're reading this message in another frontend (for example, a static\n",
       "  rendering on GitHub or <a href=\"https://nbviewer.jupyter.org/\">NBViewer</a>),\n",
       "  it may mean that your frontend doesn't currently support widgets.\n",
       "</p>\n"
      ],
      "text/plain": [
       "HBox(children=(IntProgress(value=0, description='data', max=9706), HTML(value='')))"
      ]
     },
     "metadata": {},
     "output_type": "display_data"
    },
    {
     "name": "stdout",
     "output_type": "stream",
     "text": [
      "\n"
     ]
    }
   ],
   "source": [
    "testset = img_test_batch_generator(testset_df, img.shape[0] * img.shape[1])"
   ]
  },
  {
   "cell_type": "code",
   "execution_count": 33,
   "metadata": {},
   "outputs": [
    {
     "data": {
      "text/plain": [
       "(9706, 160, 160, 3)"
      ]
     },
     "execution_count": 33,
     "metadata": {},
     "output_type": "execute_result"
    }
   ],
   "source": [
    "testset.shape"
   ]
  },
  {
   "cell_type": "code",
   "execution_count": 34,
   "metadata": {},
   "outputs": [
    {
     "name": "stdout",
     "output_type": "stream",
     "text": [
      "[0 0 0 ..., 0 0 0]\n",
      "0.995260663507\n"
     ]
    }
   ],
   "source": [
    "test_pred = sess.run([y_pred], feed_dict={input_data:testset[:1000], is_training: False})\n",
    "test_pred_label = np.argmax(test_pred[0], axis=1)\n",
    "test_pred = sess.run([y_pred], feed_dict={input_data:testset[1000:2000], is_training: False})\n",
    "test_pred_label = np.append(test_pred_label, np.argmax(test_pred[0], axis=1))\n",
    "test_pred = sess.run([y_pred], feed_dict={input_data:testset[2000:3000], is_training: False})\n",
    "test_pred_label = np.append(test_pred_label, np.argmax(test_pred[0], axis=1))\n",
    "test_pred = sess.run([y_pred], feed_dict={input_data:testset[3000:4000], is_training: False})\n",
    "test_pred_label = np.append(test_pred_label, np.argmax(test_pred[0], axis=1))\n",
    "test_pred = sess.run([y_pred], feed_dict={input_data:testset[4000:5000], is_training: False})\n",
    "test_pred_label = np.append(test_pred_label, np.argmax(test_pred[0], axis=1))\n",
    "test_pred = sess.run([y_pred], feed_dict={input_data:testset[5000:6000], is_training: False})\n",
    "test_pred_label = np.append(test_pred_label, np.argmax(test_pred[0], axis=1))\n",
    "test_pred = sess.run([y_pred], feed_dict={input_data:testset[6000:7000], is_training: False})\n",
    "test_pred_label = np.append(test_pred_label, np.argmax(test_pred[0], axis=1))\n",
    "test_pred = sess.run([y_pred], feed_dict={input_data:testset[7000:8000], is_training: False})\n",
    "test_pred_label = np.append(test_pred_label, np.argmax(test_pred[0], axis=1))\n",
    "test_pred = sess.run([y_pred], feed_dict={input_data:testset[8000:9000], is_training: False})\n",
    "test_pred_label = np.append(test_pred_label, np.argmax(test_pred[0], axis=1))\n",
    "test_pred = sess.run([y_pred], feed_dict={input_data:testset[9000:], is_training: False})\n",
    "test_pred_label = np.append(test_pred_label, np.argmax(test_pred[0], axis=1))\n",
    "\n",
    "print(test_pred_label)\n",
    "test_acc = accuracy_score(testset_df.Class_label.values, test_pred_label)\n",
    "print(test_acc)"
   ]
  },
  {
   "cell_type": "code",
   "execution_count": 35,
   "metadata": {},
   "outputs": [],
   "source": [
    "# test_pred = sess.run([y_pred], feed_dict={input_data:testset, is_training: False})\n",
    "# test_pred_label = np.argmax(test_pred[0], axis=1)\n",
    "# test_pred_label"
   ]
  },
  {
   "cell_type": "code",
   "execution_count": 36,
   "metadata": {},
   "outputs": [
    {
     "data": {
      "text/plain": [
       "<matplotlib.image.AxesImage at 0x7fac14647470>"
      ]
     },
     "execution_count": 36,
     "metadata": {},
     "output_type": "execute_result"
    },
    {
     "data": {
      "image/png": "[encoded data removed]",
      "text/plain": [
       "<matplotlib.figure.Figure at 0x7fadbe69b048>"
      ]
     },
     "metadata": {},
     "output_type": "display_data"
    }
   ],
   "source": [
    "plt.imshow(testset[107])"
   ]
  }
 ],
 "metadata": {
  "kernelspec": {
   "display_name": "Python 3",
   "language": "python",
   "name": "python3"
  },
  "language_info": {
   "codemirror_mode": {
    "name": "ipython",
    "version": 3
   },
   "file_extension": ".py",
   "mimetype": "text/x-python",
   "name": "python",
   "nbconvert_exporter": "python",
   "pygments_lexer": "ipython3",
   "version": "3.6.3"
  }
 },
 "nbformat": 4,
 "nbformat_minor": 2
}
